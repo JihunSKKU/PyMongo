{
  "nbformat": 4,
  "nbformat_minor": 0,
  "metadata": {
    "colab": {
      "provenance": [],
      "authorship_tag": "ABX9TyOqv+g4LLT2nUiNaAZ3FpxN",
      "include_colab_link": true
    },
    "kernelspec": {
      "name": "python3",
      "display_name": "Python 3"
    },
    "language_info": {
      "name": "python"
    }
  },
  "cells": [
    {
      "cell_type": "markdown",
      "metadata": {
        "id": "view-in-github",
        "colab_type": "text"
      },
      "source": [
        "<a href=\"https://colab.research.google.com/github/JihunSKKU/PyMongo/blob/main/MongoDB_basic.ipynb\" target=\"_parent\"><img src=\"https://colab.research.google.com/assets/colab-badge.svg\" alt=\"Open In Colab\"/></a>"
      ]
    },
    {
      "cell_type": "markdown",
      "source": [
        "# PyMongo basic"
      ],
      "metadata": {
        "id": "F00gblaImQ_f"
      }
    },
    {
      "cell_type": "code",
      "execution_count": 1,
      "metadata": {
        "colab": {
          "base_uri": "https://localhost:8080/"
        },
        "id": "D3MWGIQ4iGht",
        "outputId": "b41839e5-b79f-44ee-afcf-a3885e49bb03"
      },
      "outputs": [
        {
          "output_type": "stream",
          "name": "stdout",
          "text": [
            "Requirement already satisfied: pymongo in /usr/local/lib/python3.10/dist-packages (4.10.1)\n",
            "Requirement already satisfied: dnspython<3.0.0,>=1.16.0 in /usr/local/lib/python3.10/dist-packages (from pymongo) (2.7.0)\n"
          ]
        }
      ],
      "source": [
        "!pip install pymongo"
      ]
    },
    {
      "cell_type": "code",
      "source": [
        "import pymongo\n",
        "from pymongo import MongoClient"
      ],
      "metadata": {
        "id": "O599-2xFiKCX"
      },
      "execution_count": 2,
      "outputs": []
    },
    {
      "cell_type": "code",
      "source": [
        "CONNECTION_STRING = \"~~~~~\"\n",
        "my_client = MongoClient(CONNECTION_STRING)"
      ],
      "metadata": {
        "id": "35qVYO7AiN9E"
      },
      "execution_count": 15,
      "outputs": []
    },
    {
      "cell_type": "code",
      "source": [
        "database = my_client['root']\n",
        "database"
      ],
      "metadata": {
        "colab": {
          "base_uri": "https://localhost:8080/"
        },
        "id": "OY7ItSZuiTmT",
        "outputId": "b1a12896-50ba-4a2b-dda2-1992d614206d"
      },
      "execution_count": 16,
      "outputs": [
        {
          "output_type": "execute_result",
          "data": {
            "text/plain": [
              "Database(MongoClient(host=['jihunkim-shard-00-02.fdzvz.mongodb.net:27017', 'jihunkim-shard-00-01.fdzvz.mongodb.net:27017', 'jihunkim-shard-00-00.fdzvz.mongodb.net:27017'], document_class=dict, tz_aware=False, connect=True, retrywrites=True, w='majority', appname='JihunKim', authsource='admin', replicaset='atlas-f3mmtn-shard-0', tls=True), 'root')"
            ]
          },
          "metadata": {},
          "execution_count": 16
        }
      ]
    },
    {
      "cell_type": "code",
      "source": [
        "collection = database['products']\n",
        "collection"
      ],
      "metadata": {
        "colab": {
          "base_uri": "https://localhost:8080/"
        },
        "id": "4sNI1KZEiYij",
        "outputId": "e4c4affe-9004-4697-f786-d15f639a78e7"
      },
      "execution_count": 17,
      "outputs": [
        {
          "output_type": "execute_result",
          "data": {
            "text/plain": [
              "Collection(Database(MongoClient(host=['jihunkim-shard-00-02.fdzvz.mongodb.net:27017', 'jihunkim-shard-00-01.fdzvz.mongodb.net:27017', 'jihunkim-shard-00-00.fdzvz.mongodb.net:27017'], document_class=dict, tz_aware=False, connect=True, retrywrites=True, w='majority', appname='JihunKim', authsource='admin', replicaset='atlas-f3mmtn-shard-0', tls=True), 'root'), 'products')"
            ]
          },
          "metadata": {},
          "execution_count": 17
        }
      ]
    },
    {
      "cell_type": "markdown",
      "source": [
        "## CRUD Operations"
      ],
      "metadata": {
        "id": "K5RAIhiEircP"
      }
    },
    {
      "cell_type": "markdown",
      "source": [
        "### Create Operations\n",
        "\n",
        "- Create or insert operations add new documents to a collection.\n",
        "    - collection.insert_one()\n",
        "    - collection.insert_many()"
      ],
      "metadata": {
        "id": "11gvIk3Eix-l"
      }
    },
    {
      "cell_type": "code",
      "source": [
        "import json\n",
        "\n",
        "doc_list = []\n",
        "for line in open('products.json', 'r'):\n",
        "    doc_list.append(json.loads(line))"
      ],
      "metadata": {
        "id": "57tQSA0AibPV"
      },
      "execution_count": 18,
      "outputs": []
    },
    {
      "cell_type": "code",
      "source": [
        "for doc in doc_list:\n",
        "    try:\n",
        "        collection.insert_one(doc)\n",
        "    except pymongo.errors.DuplicateKeyError:\n",
        "        pass\n",
        "        # skip any documents with the same ID as the added document."
      ],
      "metadata": {
        "id": "KbYbh-kTi24C"
      },
      "execution_count": 19,
      "outputs": []
    },
    {
      "cell_type": "code",
      "source": [
        "try:\n",
        "    collection.insert_many(doc_list)\n",
        "except pymongo.errors.BulkWriteError:\n",
        "    pass\n",
        "    # if there is a document with the same id as the added document\n",
        "    # list, do not include the list itself."
      ],
      "metadata": {
        "id": "6Lqlv4lTi5Ec"
      },
      "execution_count": 20,
      "outputs": []
    },
    {
      "cell_type": "code",
      "source": [
        "results = collection.find()\n",
        "print(type(results)) # Cursor has dictionaries.\n",
        "\n",
        "for result in results:\n",
        "    print(result)"
      ],
      "metadata": {
        "colab": {
          "base_uri": "https://localhost:8080/"
        },
        "id": "9OjsfuEkjkYH",
        "outputId": "b749ca88-888e-4566-d35a-817dc2ef5533"
      },
      "execution_count": 21,
      "outputs": [
        {
          "output_type": "stream",
          "name": "stdout",
          "text": [
            "<class 'pymongo.synchronous.cursor.Cursor'>\n",
            "{'_id': 'dial1', 'name': 'iPhone 14', 'brand': 'Apple', 'type': 'phone', 'price': 250, 'warranty_years': 1, 'available': True}\n",
            "{'_id': 'dial2', 'name': 'iPhone 14 Pro', 'brand': 'Apple', 'type': 'phone', 'price': 300, 'warranty_years': 1, 'available': False}\n",
            "{'_id': 'dial3', 'name': 'Galaxy S23', 'brand': 'Samsung', 'type': 'phone', 'price': 200, 'warranty_years': 1, 'available': False}\n",
            "{'_id': 'dial4', 'name': 'Galaxy S23 Ultra', 'brand': 'Samsung', 'type': 'phone', 'price': 280, 'warranty_years': 1, 'available': False}\n",
            "{'_id': 'dial5', 'name': 'iPhone Charger', 'type': ['accessory', 'charger'], 'price': 25, 'warranty_years': 0.25, 'for': ['dial1', 'dial2']}\n",
            "{'_id': 'dial6', 'name': 'Galaxy Charger', 'type': ['accessory', 'charger'], 'price': 15, 'warranty_years': 0.25, 'for': ['dial3', 'dial4']}\n",
            "{'_id': 'dial7', 'name': 'iPhone 14 Case Green', 'type': ['accessory', 'case'], 'color': 'green', 'price': 12, 'warranty_years': 0}\n",
            "{'_id': 'dial8', 'name': 'iPhone 14 Case Black', 'type': ['accessory', 'case'], 'color': 'black', 'price': 12, 'warranty_years': 0.25, 'available': False, 'for': ['dial1', 'dial2']}\n",
            "{'_id': 'dial9', 'name': 'iPhone 14 Mini Case Yellow', 'type': ['accessory', 'case'], 'color': 'yellow', 'price': 10, 'warranty_years': 0}\n",
            "{'_id': 'dial10', 'name': 'Galaxy S23 Case Green', 'type': ['accessory', 'case'], 'color': 'green', 'price': 10, 'warranty_years': 0}\n",
            "{'_id': 'dial11', 'name': 'Galaxy S23 Ultra Case Red', 'type': ['accessory', 'case'], 'color': 'red', 'price': 15, 'warranty_years': 0.25, 'available': True, 'for': 'dial4'}\n"
          ]
        }
      ]
    },
    {
      "cell_type": "markdown",
      "source": [
        "### Read Operations\n",
        "\n",
        "Read operations retrieve documents from a collection; i.e.\n",
        "query a collection for documents.\n",
        "- collection.find()\n",
        "- collection.find_one()\n"
      ],
      "metadata": {
        "id": "Ieh6yienlLEq"
      }
    },
    {
      "cell_type": "code",
      "source": [
        "collection.find()"
      ],
      "metadata": {
        "colab": {
          "base_uri": "https://localhost:8080/"
        },
        "id": "uRICZIhglAah",
        "outputId": "d0665aa6-c345-4382-d002-d6ad52c9437b"
      },
      "execution_count": 22,
      "outputs": [
        {
          "output_type": "execute_result",
          "data": {
            "text/plain": [
              "<pymongo.synchronous.cursor.Cursor at 0x7b2a480897e0>"
            ]
          },
          "metadata": {},
          "execution_count": 22
        }
      ]
    },
    {
      "cell_type": "code",
      "source": [
        "collection.find_one()"
      ],
      "metadata": {
        "colab": {
          "base_uri": "https://localhost:8080/"
        },
        "id": "hBuBT3tvlXb2",
        "outputId": "fec89443-5315-41af-9092-46ec035ac36a"
      },
      "execution_count": 23,
      "outputs": [
        {
          "output_type": "execute_result",
          "data": {
            "text/plain": [
              "{'_id': 'dial1',\n",
              " 'name': 'iPhone 14',\n",
              " 'brand': 'Apple',\n",
              " 'type': 'phone',\n",
              " 'price': 250,\n",
              " 'warranty_years': 1,\n",
              " 'available': True}"
            ]
          },
          "metadata": {},
          "execution_count": 23
        }
      ]
    },
    {
      "cell_type": "markdown",
      "source": [
        "### Update Operations\n",
        "\n",
        "- Update operations modify existing documents in a collection.\n",
        "    - collection.update_one()\n",
        "    - collection.update_many()\n"
      ],
      "metadata": {
        "id": "kTTY8MyAldRH"
      }
    },
    {
      "cell_type": "markdown",
      "source": [
        "- **What is a Filter?**\n",
        "    - A query or a set of conditions you specify to retrieve documents from a collection that match those conditions.\n",
        "    - Filters are used with various MongoDB operations, such as `find()`, `deleteMany()`, `updateMany()`, and `aggregate()`, to narrow down the set of documents that you want to work with or modify.\n",
        "\n",
        "- **Example**\n",
        "\n",
        "    ```Python\n",
        "    collection.find({\"color\": \"green\"})\n",
        "    ```\n",
        "    - This query will return all documents in the collection where the key **\"color\"** equals the value **\"green\"**\n"
      ],
      "metadata": {
        "id": "Gas39BFslxIr"
      }
    },
    {
      "cell_type": "markdown",
      "source": [
        "- Modify the document in the collection\n",
        "    - **$set, $unset**: Add/delete the value itself.\n",
        "    - **$push, $pull**: Add/delete an element in a value that is in the form of a list.\n",
        "- Change the value of a single document in the collection\n",
        "    ```python\n",
        "    collection.update_one({}, {\"$set\": {\"key\": \"value\"}})\n",
        "    ```\n",
        "- Change the values of the corresponding documents in the\n",
        "collection\n",
        "    ```python\n",
        "    collection.update_many({}, {\"$set\": {\"key\": \"value\"}})\n",
        "    ```\n",
        "- Note: For the update operation, you must always provide an\n",
        "empty filter!\n"
      ],
      "metadata": {
        "id": "InVM-1C1mUXt"
      }
    },
    {
      "cell_type": "markdown",
      "source": [
        "Modify documents in the collection:\n",
        "\n",
        "- **\\$set**: Add/Modify the key and its value.\n",
        "- **\\$unset**: Remove the key and its value.\n",
        "- **\\$push**: Add an element to a list-shaped value.\n",
        "- **\\$pull**: Remove an element from a list-shaped value."
      ],
      "metadata": {
        "id": "VqYAeNvmnBvu"
      }
    },
    {
      "cell_type": "markdown",
      "source": [],
      "metadata": {
        "id": "wWonLjqFnBe8"
      }
    },
    {
      "cell_type": "code",
      "source": [
        "collection.update_one({}, {\"$set\": {\"price\": 200}})\n",
        "collection.find_one()"
      ],
      "metadata": {
        "colab": {
          "base_uri": "https://localhost:8080/"
        },
        "id": "H-ePQz6jlZGF",
        "outputId": "350a9032-f0be-4b81-8c77-2521d10afbd5"
      },
      "execution_count": 25,
      "outputs": [
        {
          "output_type": "execute_result",
          "data": {
            "text/plain": [
              "{'_id': 'dial1',\n",
              " 'name': 'iPhone 14',\n",
              " 'brand': 'Apple',\n",
              " 'type': 'phone',\n",
              " 'price': 200,\n",
              " 'warranty_years': 1,\n",
              " 'available': True}"
            ]
          },
          "metadata": {},
          "execution_count": 25
        }
      ]
    },
    {
      "cell_type": "markdown",
      "source": [
        "Since the original value is not in a list format, you cannot add the value using **\\$push**. You should use **\\$set**."
      ],
      "metadata": {
        "id": "eNiPYFk0nxDX"
      }
    },
    {
      "cell_type": "code",
      "source": [
        "print(\"Before any operations\")\n",
        "print(collection.find_one())\n",
        "\n",
        "# The code below generates an error\n",
        "collection.update_one({}, {\"$push\": {\"type\": \"mobile\"}})"
      ],
      "metadata": {
        "colab": {
          "base_uri": "https://localhost:8080/",
          "height": 411
        },
        "collapsed": true,
        "id": "nAfhcm76nfB7",
        "outputId": "90ef4896-3ed6-4229-95dc-9c830df22b70"
      },
      "execution_count": 26,
      "outputs": [
        {
          "output_type": "stream",
          "name": "stdout",
          "text": [
            "Before any operations\n",
            "{'_id': 'dial1', 'name': 'iPhone 14', 'brand': 'Apple', 'type': 'phone', 'price': 200, 'warranty_years': 1, 'available': True}\n"
          ]
        },
        {
          "output_type": "error",
          "ename": "WriteError",
          "evalue": "The field 'type' must be an array but is of type string in document {_id: \"dial1\"}, full error: {'index': 0, 'code': 2, 'errmsg': 'The field \\'type\\' must be an array but is of type string in document {_id: \"dial1\"}'}",
          "traceback": [
            "\u001b[0;31m---------------------------------------------------------------------------\u001b[0m",
            "\u001b[0;31mWriteError\u001b[0m                                Traceback (most recent call last)",
            "\u001b[0;32m<ipython-input-26-c9bd071807d8>\u001b[0m in \u001b[0;36m<cell line: 5>\u001b[0;34m()\u001b[0m\n\u001b[1;32m      3\u001b[0m \u001b[0;34m\u001b[0m\u001b[0m\n\u001b[1;32m      4\u001b[0m \u001b[0;31m# The code below generates an error\u001b[0m\u001b[0;34m\u001b[0m\u001b[0;34m\u001b[0m\u001b[0m\n\u001b[0;32m----> 5\u001b[0;31m \u001b[0mcollection\u001b[0m\u001b[0;34m.\u001b[0m\u001b[0mupdate_one\u001b[0m\u001b[0;34m(\u001b[0m\u001b[0;34m{\u001b[0m\u001b[0;34m}\u001b[0m\u001b[0;34m,\u001b[0m \u001b[0;34m{\u001b[0m\u001b[0;34m\"$push\"\u001b[0m\u001b[0;34m:\u001b[0m \u001b[0;34m{\u001b[0m\u001b[0;34m\"type\"\u001b[0m\u001b[0;34m:\u001b[0m \u001b[0;34m\"mobile\"\u001b[0m\u001b[0;34m}\u001b[0m\u001b[0;34m}\u001b[0m\u001b[0;34m)\u001b[0m\u001b[0;34m\u001b[0m\u001b[0;34m\u001b[0m\u001b[0m\n\u001b[0m",
            "\u001b[0;32m/usr/local/lib/python3.10/dist-packages/pymongo/synchronous/collection.py\u001b[0m in \u001b[0;36mupdate_one\u001b[0;34m(self, filter, update, upsert, bypass_document_validation, collation, array_filters, hint, session, let, comment)\u001b[0m\n\u001b[1;32m   1310\u001b[0m         \u001b[0mwrite_concern\u001b[0m \u001b[0;34m=\u001b[0m \u001b[0mself\u001b[0m\u001b[0;34m.\u001b[0m\u001b[0m_write_concern_for\u001b[0m\u001b[0;34m(\u001b[0m\u001b[0msession\u001b[0m\u001b[0;34m)\u001b[0m\u001b[0;34m\u001b[0m\u001b[0;34m\u001b[0m\u001b[0m\n\u001b[1;32m   1311\u001b[0m         return UpdateResult(\n\u001b[0;32m-> 1312\u001b[0;31m             self._update_retryable(\n\u001b[0m\u001b[1;32m   1313\u001b[0m                 \u001b[0mfilter\u001b[0m\u001b[0;34m,\u001b[0m\u001b[0;34m\u001b[0m\u001b[0;34m\u001b[0m\u001b[0m\n\u001b[1;32m   1314\u001b[0m                 \u001b[0mupdate\u001b[0m\u001b[0;34m,\u001b[0m\u001b[0;34m\u001b[0m\u001b[0;34m\u001b[0m\u001b[0m\n",
            "\u001b[0;32m/usr/local/lib/python3.10/dist-packages/pymongo/synchronous/collection.py\u001b[0m in \u001b[0;36m_update_retryable\u001b[0;34m(self, criteria, document, operation, upsert, multi, write_concern, op_id, ordered, bypass_doc_val, collation, array_filters, hint, session, let, comment)\u001b[0m\n\u001b[1;32m   1105\u001b[0m             )\n\u001b[1;32m   1106\u001b[0m \u001b[0;34m\u001b[0m\u001b[0m\n\u001b[0;32m-> 1107\u001b[0;31m         return self._database.client._retryable_write(\n\u001b[0m\u001b[1;32m   1108\u001b[0m             \u001b[0;34m(\u001b[0m\u001b[0mwrite_concern\u001b[0m \u001b[0;32mor\u001b[0m \u001b[0mself\u001b[0m\u001b[0;34m.\u001b[0m\u001b[0mwrite_concern\u001b[0m\u001b[0;34m)\u001b[0m\u001b[0;34m.\u001b[0m\u001b[0macknowledged\u001b[0m \u001b[0;32mand\u001b[0m \u001b[0;32mnot\u001b[0m \u001b[0mmulti\u001b[0m\u001b[0;34m,\u001b[0m\u001b[0;34m\u001b[0m\u001b[0;34m\u001b[0m\u001b[0m\n\u001b[1;32m   1109\u001b[0m             \u001b[0m_update\u001b[0m\u001b[0;34m,\u001b[0m\u001b[0;34m\u001b[0m\u001b[0;34m\u001b[0m\u001b[0m\n",
            "\u001b[0;32m/usr/local/lib/python3.10/dist-packages/pymongo/synchronous/mongo_client.py\u001b[0m in \u001b[0;36m_retryable_write\u001b[0;34m(self, retryable, func, session, operation, bulk, operation_id)\u001b[0m\n\u001b[1;32m   1896\u001b[0m         \"\"\"\n\u001b[1;32m   1897\u001b[0m         \u001b[0;32mwith\u001b[0m \u001b[0mself\u001b[0m\u001b[0;34m.\u001b[0m\u001b[0m_tmp_session\u001b[0m\u001b[0;34m(\u001b[0m\u001b[0msession\u001b[0m\u001b[0;34m)\u001b[0m \u001b[0;32mas\u001b[0m \u001b[0ms\u001b[0m\u001b[0;34m:\u001b[0m\u001b[0;34m\u001b[0m\u001b[0;34m\u001b[0m\u001b[0m\n\u001b[0;32m-> 1898\u001b[0;31m             \u001b[0;32mreturn\u001b[0m \u001b[0mself\u001b[0m\u001b[0;34m.\u001b[0m\u001b[0m_retry_with_session\u001b[0m\u001b[0;34m(\u001b[0m\u001b[0mretryable\u001b[0m\u001b[0;34m,\u001b[0m \u001b[0mfunc\u001b[0m\u001b[0;34m,\u001b[0m \u001b[0ms\u001b[0m\u001b[0;34m,\u001b[0m \u001b[0mbulk\u001b[0m\u001b[0;34m,\u001b[0m \u001b[0moperation\u001b[0m\u001b[0;34m,\u001b[0m \u001b[0moperation_id\u001b[0m\u001b[0;34m)\u001b[0m\u001b[0;34m\u001b[0m\u001b[0;34m\u001b[0m\u001b[0m\n\u001b[0m\u001b[1;32m   1899\u001b[0m \u001b[0;34m\u001b[0m\u001b[0m\n\u001b[1;32m   1900\u001b[0m     def _cleanup_cursor_no_lock(\n",
            "\u001b[0;32m/usr/local/lib/python3.10/dist-packages/pymongo/synchronous/mongo_client.py\u001b[0m in \u001b[0;36m_retry_with_session\u001b[0;34m(self, retryable, func, session, bulk, operation, operation_id)\u001b[0m\n\u001b[1;32m   1782\u001b[0m             \u001b[0mretryable\u001b[0m \u001b[0;32mand\u001b[0m \u001b[0mself\u001b[0m\u001b[0;34m.\u001b[0m\u001b[0moptions\u001b[0m\u001b[0;34m.\u001b[0m\u001b[0mretry_writes\u001b[0m \u001b[0;32mand\u001b[0m \u001b[0msession\u001b[0m \u001b[0;32mand\u001b[0m \u001b[0;32mnot\u001b[0m \u001b[0msession\u001b[0m\u001b[0;34m.\u001b[0m\u001b[0min_transaction\u001b[0m\u001b[0;34m\u001b[0m\u001b[0;34m\u001b[0m\u001b[0m\n\u001b[1;32m   1783\u001b[0m         )\n\u001b[0;32m-> 1784\u001b[0;31m         return self._retry_internal(\n\u001b[0m\u001b[1;32m   1785\u001b[0m             \u001b[0mfunc\u001b[0m\u001b[0;34m=\u001b[0m\u001b[0mfunc\u001b[0m\u001b[0;34m,\u001b[0m\u001b[0;34m\u001b[0m\u001b[0;34m\u001b[0m\u001b[0m\n\u001b[1;32m   1786\u001b[0m             \u001b[0msession\u001b[0m\u001b[0;34m=\u001b[0m\u001b[0msession\u001b[0m\u001b[0;34m,\u001b[0m\u001b[0;34m\u001b[0m\u001b[0;34m\u001b[0m\u001b[0m\n",
            "\u001b[0;32m/usr/local/lib/python3.10/dist-packages/pymongo/_csot.py\u001b[0m in \u001b[0;36mcsot_wrapper\u001b[0;34m(self, *args, **kwargs)\u001b[0m\n\u001b[1;32m    117\u001b[0m                     \u001b[0;32mwith\u001b[0m \u001b[0m_TimeoutContext\u001b[0m\u001b[0;34m(\u001b[0m\u001b[0mtimeout\u001b[0m\u001b[0;34m)\u001b[0m\u001b[0;34m:\u001b[0m\u001b[0;34m\u001b[0m\u001b[0;34m\u001b[0m\u001b[0m\n\u001b[1;32m    118\u001b[0m                         \u001b[0;32mreturn\u001b[0m \u001b[0mfunc\u001b[0m\u001b[0;34m(\u001b[0m\u001b[0mself\u001b[0m\u001b[0;34m,\u001b[0m \u001b[0;34m*\u001b[0m\u001b[0margs\u001b[0m\u001b[0;34m,\u001b[0m \u001b[0;34m**\u001b[0m\u001b[0mkwargs\u001b[0m\u001b[0;34m)\u001b[0m\u001b[0;34m\u001b[0m\u001b[0;34m\u001b[0m\u001b[0m\n\u001b[0;32m--> 119\u001b[0;31m             \u001b[0;32mreturn\u001b[0m \u001b[0mfunc\u001b[0m\u001b[0;34m(\u001b[0m\u001b[0mself\u001b[0m\u001b[0;34m,\u001b[0m \u001b[0;34m*\u001b[0m\u001b[0margs\u001b[0m\u001b[0;34m,\u001b[0m \u001b[0;34m**\u001b[0m\u001b[0mkwargs\u001b[0m\u001b[0;34m)\u001b[0m\u001b[0;34m\u001b[0m\u001b[0;34m\u001b[0m\u001b[0m\n\u001b[0m\u001b[1;32m    120\u001b[0m \u001b[0;34m\u001b[0m\u001b[0m\n\u001b[1;32m    121\u001b[0m     \u001b[0;32mreturn\u001b[0m \u001b[0mcast\u001b[0m\u001b[0;34m(\u001b[0m\u001b[0mF\u001b[0m\u001b[0;34m,\u001b[0m \u001b[0mcsot_wrapper\u001b[0m\u001b[0;34m)\u001b[0m\u001b[0;34m\u001b[0m\u001b[0;34m\u001b[0m\u001b[0m\n",
            "\u001b[0;32m/usr/local/lib/python3.10/dist-packages/pymongo/synchronous/mongo_client.py\u001b[0m in \u001b[0;36m_retry_internal\u001b[0;34m(self, func, session, bulk, operation, is_read, address, read_pref, retryable, operation_id)\u001b[0m\n\u001b[1;32m   1828\u001b[0m             \u001b[0mretryable\u001b[0m\u001b[0;34m=\u001b[0m\u001b[0mretryable\u001b[0m\u001b[0;34m,\u001b[0m\u001b[0;34m\u001b[0m\u001b[0;34m\u001b[0m\u001b[0m\n\u001b[1;32m   1829\u001b[0m             \u001b[0moperation_id\u001b[0m\u001b[0;34m=\u001b[0m\u001b[0moperation_id\u001b[0m\u001b[0;34m,\u001b[0m\u001b[0;34m\u001b[0m\u001b[0;34m\u001b[0m\u001b[0m\n\u001b[0;32m-> 1830\u001b[0;31m         ).run()\n\u001b[0m\u001b[1;32m   1831\u001b[0m \u001b[0;34m\u001b[0m\u001b[0m\n\u001b[1;32m   1832\u001b[0m     def _retryable_read(\n",
            "\u001b[0;32m/usr/local/lib/python3.10/dist-packages/pymongo/synchronous/mongo_client.py\u001b[0m in \u001b[0;36mrun\u001b[0;34m(self)\u001b[0m\n\u001b[1;32m   2552\u001b[0m             \u001b[0mself\u001b[0m\u001b[0;34m.\u001b[0m\u001b[0m_check_last_error\u001b[0m\u001b[0;34m(\u001b[0m\u001b[0mcheck_csot\u001b[0m\u001b[0;34m=\u001b[0m\u001b[0;32mTrue\u001b[0m\u001b[0;34m)\u001b[0m\u001b[0;34m\u001b[0m\u001b[0;34m\u001b[0m\u001b[0m\n\u001b[1;32m   2553\u001b[0m             \u001b[0;32mtry\u001b[0m\u001b[0;34m:\u001b[0m\u001b[0;34m\u001b[0m\u001b[0;34m\u001b[0m\u001b[0m\n\u001b[0;32m-> 2554\u001b[0;31m                 \u001b[0;32mreturn\u001b[0m \u001b[0mself\u001b[0m\u001b[0;34m.\u001b[0m\u001b[0m_read\u001b[0m\u001b[0;34m(\u001b[0m\u001b[0;34m)\u001b[0m \u001b[0;32mif\u001b[0m \u001b[0mself\u001b[0m\u001b[0;34m.\u001b[0m\u001b[0m_is_read\u001b[0m \u001b[0;32melse\u001b[0m \u001b[0mself\u001b[0m\u001b[0;34m.\u001b[0m\u001b[0m_write\u001b[0m\u001b[0;34m(\u001b[0m\u001b[0;34m)\u001b[0m\u001b[0;34m\u001b[0m\u001b[0;34m\u001b[0m\u001b[0m\n\u001b[0m\u001b[1;32m   2555\u001b[0m             \u001b[0;32mexcept\u001b[0m \u001b[0mServerSelectionTimeoutError\u001b[0m\u001b[0;34m:\u001b[0m\u001b[0;34m\u001b[0m\u001b[0;34m\u001b[0m\u001b[0m\n\u001b[1;32m   2556\u001b[0m                 \u001b[0;31m# The application may think the write was never attempted\u001b[0m\u001b[0;34m\u001b[0m\u001b[0;34m\u001b[0m\u001b[0m\n",
            "\u001b[0;32m/usr/local/lib/python3.10/dist-packages/pymongo/synchronous/mongo_client.py\u001b[0m in \u001b[0;36m_write\u001b[0;34m(self)\u001b[0m\n\u001b[1;32m   2674\u001b[0m                     \u001b[0mself\u001b[0m\u001b[0;34m.\u001b[0m\u001b[0m_check_last_error\u001b[0m\u001b[0;34m(\u001b[0m\u001b[0;34m)\u001b[0m\u001b[0;34m\u001b[0m\u001b[0;34m\u001b[0m\u001b[0m\n\u001b[1;32m   2675\u001b[0m                     \u001b[0mself\u001b[0m\u001b[0;34m.\u001b[0m\u001b[0m_retryable\u001b[0m \u001b[0;34m=\u001b[0m \u001b[0;32mFalse\u001b[0m\u001b[0;34m\u001b[0m\u001b[0;34m\u001b[0m\u001b[0m\n\u001b[0;32m-> 2676\u001b[0;31m                 \u001b[0;32mreturn\u001b[0m \u001b[0mself\u001b[0m\u001b[0;34m.\u001b[0m\u001b[0m_func\u001b[0m\u001b[0;34m(\u001b[0m\u001b[0mself\u001b[0m\u001b[0;34m.\u001b[0m\u001b[0m_session\u001b[0m\u001b[0;34m,\u001b[0m \u001b[0mconn\u001b[0m\u001b[0;34m,\u001b[0m \u001b[0mself\u001b[0m\u001b[0;34m.\u001b[0m\u001b[0m_retryable\u001b[0m\u001b[0;34m)\u001b[0m  \u001b[0;31m# type: ignore\u001b[0m\u001b[0;34m\u001b[0m\u001b[0;34m\u001b[0m\u001b[0m\n\u001b[0m\u001b[1;32m   2677\u001b[0m         \u001b[0;32mexcept\u001b[0m \u001b[0mPyMongoError\u001b[0m \u001b[0;32mas\u001b[0m \u001b[0mexc\u001b[0m\u001b[0;34m:\u001b[0m\u001b[0;34m\u001b[0m\u001b[0;34m\u001b[0m\u001b[0m\n\u001b[1;32m   2678\u001b[0m             \u001b[0;32mif\u001b[0m \u001b[0;32mnot\u001b[0m \u001b[0mself\u001b[0m\u001b[0;34m.\u001b[0m\u001b[0m_retryable\u001b[0m\u001b[0;34m:\u001b[0m\u001b[0;34m\u001b[0m\u001b[0;34m\u001b[0m\u001b[0m\n",
            "\u001b[0;32m/usr/local/lib/python3.10/dist-packages/pymongo/synchronous/collection.py\u001b[0m in \u001b[0;36m_update\u001b[0;34m(session, conn, retryable_write)\u001b[0m\n\u001b[1;32m   1086\u001b[0m             \u001b[0msession\u001b[0m\u001b[0;34m:\u001b[0m \u001b[0mOptional\u001b[0m\u001b[0;34m[\u001b[0m\u001b[0mClientSession\u001b[0m\u001b[0;34m]\u001b[0m\u001b[0;34m,\u001b[0m \u001b[0mconn\u001b[0m\u001b[0;34m:\u001b[0m \u001b[0mConnection\u001b[0m\u001b[0;34m,\u001b[0m \u001b[0mretryable_write\u001b[0m\u001b[0;34m:\u001b[0m \u001b[0mbool\u001b[0m\u001b[0;34m\u001b[0m\u001b[0;34m\u001b[0m\u001b[0m\n\u001b[1;32m   1087\u001b[0m         ) -> Optional[Mapping[str, Any]]:\n\u001b[0;32m-> 1088\u001b[0;31m             return self._update(\n\u001b[0m\u001b[1;32m   1089\u001b[0m                 \u001b[0mconn\u001b[0m\u001b[0;34m,\u001b[0m\u001b[0;34m\u001b[0m\u001b[0;34m\u001b[0m\u001b[0m\n\u001b[1;32m   1090\u001b[0m                 \u001b[0mcriteria\u001b[0m\u001b[0;34m,\u001b[0m\u001b[0;34m\u001b[0m\u001b[0;34m\u001b[0m\u001b[0m\n",
            "\u001b[0;32m/usr/local/lib/python3.10/dist-packages/pymongo/synchronous/collection.py\u001b[0m in \u001b[0;36m_update\u001b[0;34m(self, conn, criteria, document, upsert, multi, write_concern, op_id, ordered, bypass_doc_val, collation, array_filters, hint, session, retryable_write, let, comment)\u001b[0m\n\u001b[1;32m   1048\u001b[0m             )\n\u001b[1;32m   1049\u001b[0m         ).copy()\n\u001b[0;32m-> 1050\u001b[0;31m         \u001b[0m_check_write_command_response\u001b[0m\u001b[0;34m(\u001b[0m\u001b[0mresult\u001b[0m\u001b[0;34m)\u001b[0m\u001b[0;34m\u001b[0m\u001b[0;34m\u001b[0m\u001b[0m\n\u001b[0m\u001b[1;32m   1051\u001b[0m         \u001b[0;31m# Add the updatedExisting field for compatibility.\u001b[0m\u001b[0;34m\u001b[0m\u001b[0;34m\u001b[0m\u001b[0m\n\u001b[1;32m   1052\u001b[0m         \u001b[0;32mif\u001b[0m \u001b[0mresult\u001b[0m\u001b[0;34m.\u001b[0m\u001b[0mget\u001b[0m\u001b[0;34m(\u001b[0m\u001b[0;34m\"n\"\u001b[0m\u001b[0;34m)\u001b[0m \u001b[0;32mand\u001b[0m \u001b[0;34m\"upserted\"\u001b[0m \u001b[0;32mnot\u001b[0m \u001b[0;32min\u001b[0m \u001b[0mresult\u001b[0m\u001b[0;34m:\u001b[0m\u001b[0;34m\u001b[0m\u001b[0;34m\u001b[0m\u001b[0m\n",
            "\u001b[0;32m/usr/local/lib/python3.10/dist-packages/pymongo/helpers_shared.py\u001b[0m in \u001b[0;36m_check_write_command_response\u001b[0;34m(result)\u001b[0m\n\u001b[1;32m    283\u001b[0m     \u001b[0mwrite_errors\u001b[0m \u001b[0;34m=\u001b[0m \u001b[0mresult\u001b[0m\u001b[0;34m.\u001b[0m\u001b[0mget\u001b[0m\u001b[0;34m(\u001b[0m\u001b[0;34m\"writeErrors\"\u001b[0m\u001b[0;34m)\u001b[0m\u001b[0;34m\u001b[0m\u001b[0;34m\u001b[0m\u001b[0m\n\u001b[1;32m    284\u001b[0m     \u001b[0;32mif\u001b[0m \u001b[0mwrite_errors\u001b[0m\u001b[0;34m:\u001b[0m\u001b[0;34m\u001b[0m\u001b[0;34m\u001b[0m\u001b[0m\n\u001b[0;32m--> 285\u001b[0;31m         \u001b[0m_raise_last_write_error\u001b[0m\u001b[0;34m(\u001b[0m\u001b[0mwrite_errors\u001b[0m\u001b[0;34m)\u001b[0m\u001b[0;34m\u001b[0m\u001b[0;34m\u001b[0m\u001b[0m\n\u001b[0m\u001b[1;32m    286\u001b[0m \u001b[0;34m\u001b[0m\u001b[0m\n\u001b[1;32m    287\u001b[0m     \u001b[0mwce\u001b[0m \u001b[0;34m=\u001b[0m \u001b[0m_get_wce_doc\u001b[0m\u001b[0;34m(\u001b[0m\u001b[0mresult\u001b[0m\u001b[0;34m)\u001b[0m\u001b[0;34m\u001b[0m\u001b[0;34m\u001b[0m\u001b[0m\n",
            "\u001b[0;32m/usr/local/lib/python3.10/dist-packages/pymongo/helpers_shared.py\u001b[0m in \u001b[0;36m_raise_last_write_error\u001b[0;34m(write_errors)\u001b[0m\n\u001b[1;32m    254\u001b[0m     \u001b[0;32mif\u001b[0m \u001b[0merror\u001b[0m\u001b[0;34m.\u001b[0m\u001b[0mget\u001b[0m\u001b[0;34m(\u001b[0m\u001b[0;34m\"code\"\u001b[0m\u001b[0;34m)\u001b[0m \u001b[0;34m==\u001b[0m \u001b[0;36m11000\u001b[0m\u001b[0;34m:\u001b[0m\u001b[0;34m\u001b[0m\u001b[0;34m\u001b[0m\u001b[0m\n\u001b[1;32m    255\u001b[0m         \u001b[0;32mraise\u001b[0m \u001b[0mDuplicateKeyError\u001b[0m\u001b[0;34m(\u001b[0m\u001b[0merror\u001b[0m\u001b[0;34m.\u001b[0m\u001b[0mget\u001b[0m\u001b[0;34m(\u001b[0m\u001b[0;34m\"errmsg\"\u001b[0m\u001b[0;34m)\u001b[0m\u001b[0;34m,\u001b[0m \u001b[0;36m11000\u001b[0m\u001b[0;34m,\u001b[0m \u001b[0merror\u001b[0m\u001b[0;34m)\u001b[0m\u001b[0;34m\u001b[0m\u001b[0;34m\u001b[0m\u001b[0m\n\u001b[0;32m--> 256\u001b[0;31m     \u001b[0;32mraise\u001b[0m \u001b[0mWriteError\u001b[0m\u001b[0;34m(\u001b[0m\u001b[0merror\u001b[0m\u001b[0;34m.\u001b[0m\u001b[0mget\u001b[0m\u001b[0;34m(\u001b[0m\u001b[0;34m\"errmsg\"\u001b[0m\u001b[0;34m)\u001b[0m\u001b[0;34m,\u001b[0m \u001b[0merror\u001b[0m\u001b[0;34m.\u001b[0m\u001b[0mget\u001b[0m\u001b[0;34m(\u001b[0m\u001b[0;34m\"code\"\u001b[0m\u001b[0;34m)\u001b[0m\u001b[0;34m,\u001b[0m \u001b[0merror\u001b[0m\u001b[0;34m)\u001b[0m\u001b[0;34m\u001b[0m\u001b[0;34m\u001b[0m\u001b[0m\n\u001b[0m\u001b[1;32m    257\u001b[0m \u001b[0;34m\u001b[0m\u001b[0m\n\u001b[1;32m    258\u001b[0m \u001b[0;34m\u001b[0m\u001b[0m\n",
            "\u001b[0;31mWriteError\u001b[0m: The field 'type' must be an array but is of type string in document {_id: \"dial1\"}, full error: {'index': 0, 'code': 2, 'errmsg': 'The field \\'type\\' must be an array but is of type string in document {_id: \"dial1\"}'}"
          ]
        }
      ]
    },
    {
      "cell_type": "code",
      "source": [
        "print(\"Before any operations\")\n",
        "print(collection.find_one())\n",
        "\n",
        "collection.update_one({}, {\"$set\": {\"type\": [\"phone\", \"mobile\"]}})\n",
        "print(\"After $set operation\")\n",
        "print(collection.find_one())\n",
        "\n",
        "collection.update_one({}, {\"$pull\": {\"type\": \"mobile\"}})\n",
        "print(\"After $pull operation\")\n",
        "print(collection.find_one())"
      ],
      "metadata": {
        "colab": {
          "base_uri": "https://localhost:8080/"
        },
        "id": "7CJM9mxmnnj5",
        "outputId": "d6faaabf-b0e6-48c0-a3e1-0f067cd4818e"
      },
      "execution_count": 27,
      "outputs": [
        {
          "output_type": "stream",
          "name": "stdout",
          "text": [
            "Before any operations\n",
            "{'_id': 'dial1', 'name': 'iPhone 14', 'brand': 'Apple', 'type': 'phone', 'price': 200, 'warranty_years': 1, 'available': True}\n",
            "After $set operation\n",
            "{'_id': 'dial1', 'name': 'iPhone 14', 'brand': 'Apple', 'type': ['phone', 'mobile'], 'price': 200, 'warranty_years': 1, 'available': True}\n",
            "After $pull operation\n",
            "{'_id': 'dial1', 'name': 'iPhone 14', 'brand': 'Apple', 'type': ['phone'], 'price': 200, 'warranty_years': 1, 'available': True}\n"
          ]
        }
      ]
    },
    {
      "cell_type": "markdown",
      "source": [
        "### Delete Operations\n",
        "- Delete operations remove documents from a collection.\n",
        "    - collection.delete_one()\n",
        "    - collection.delete_many()\n"
      ],
      "metadata": {
        "id": "gifhJk6on-8V"
      }
    },
    {
      "cell_type": "code",
      "source": [
        "collection.delete_one({})\n",
        "for product in collection.find():\n",
        "    print(product)"
      ],
      "metadata": {
        "colab": {
          "base_uri": "https://localhost:8080/"
        },
        "id": "RCZOaa-sn49F",
        "outputId": "91994a4f-01f2-4a34-a5aa-b1acfe38bac2"
      },
      "execution_count": 28,
      "outputs": [
        {
          "output_type": "stream",
          "name": "stdout",
          "text": [
            "{'_id': 'dial2', 'name': 'iPhone 14 Pro', 'brand': 'Apple', 'type': 'phone', 'price': 300, 'warranty_years': 1, 'available': False}\n",
            "{'_id': 'dial3', 'name': 'Galaxy S23', 'brand': 'Samsung', 'type': 'phone', 'price': 200, 'warranty_years': 1, 'available': False}\n",
            "{'_id': 'dial4', 'name': 'Galaxy S23 Ultra', 'brand': 'Samsung', 'type': 'phone', 'price': 280, 'warranty_years': 1, 'available': False}\n",
            "{'_id': 'dial5', 'name': 'iPhone Charger', 'type': ['accessory', 'charger'], 'price': 25, 'warranty_years': 0.25, 'for': ['dial1', 'dial2']}\n",
            "{'_id': 'dial6', 'name': 'Galaxy Charger', 'type': ['accessory', 'charger'], 'price': 15, 'warranty_years': 0.25, 'for': ['dial3', 'dial4']}\n",
            "{'_id': 'dial7', 'name': 'iPhone 14 Case Green', 'type': ['accessory', 'case'], 'color': 'green', 'price': 12, 'warranty_years': 0}\n",
            "{'_id': 'dial8', 'name': 'iPhone 14 Case Black', 'type': ['accessory', 'case'], 'color': 'black', 'price': 12, 'warranty_years': 0.25, 'available': False, 'for': ['dial1', 'dial2']}\n",
            "{'_id': 'dial9', 'name': 'iPhone 14 Mini Case Yellow', 'type': ['accessory', 'case'], 'color': 'yellow', 'price': 10, 'warranty_years': 0}\n",
            "{'_id': 'dial10', 'name': 'Galaxy S23 Case Green', 'type': ['accessory', 'case'], 'color': 'green', 'price': 10, 'warranty_years': 0}\n",
            "{'_id': 'dial11', 'name': 'Galaxy S23 Ultra Case Red', 'type': ['accessory', 'case'], 'color': 'red', 'price': 15, 'warranty_years': 0.25, 'available': True, 'for': 'dial4'}\n"
          ]
        }
      ]
    },
    {
      "cell_type": "markdown",
      "source": [
        "### Sort operation"
      ],
      "metadata": {
        "id": "LNIdLXLnoHr7"
      }
    },
    {
      "cell_type": "code",
      "source": [
        "for product in collection.find().sort(\"price\", 1):\n",
        "    print(product)"
      ],
      "metadata": {
        "colab": {
          "base_uri": "https://localhost:8080/"
        },
        "id": "lwN9ohU-oFvF",
        "outputId": "95f4925c-03d4-4e75-ae97-274f56fe3cf8"
      },
      "execution_count": 29,
      "outputs": [
        {
          "output_type": "stream",
          "name": "stdout",
          "text": [
            "{'_id': 'dial9', 'name': 'iPhone 14 Mini Case Yellow', 'type': ['accessory', 'case'], 'color': 'yellow', 'price': 10, 'warranty_years': 0}\n",
            "{'_id': 'dial10', 'name': 'Galaxy S23 Case Green', 'type': ['accessory', 'case'], 'color': 'green', 'price': 10, 'warranty_years': 0}\n",
            "{'_id': 'dial7', 'name': 'iPhone 14 Case Green', 'type': ['accessory', 'case'], 'color': 'green', 'price': 12, 'warranty_years': 0}\n",
            "{'_id': 'dial8', 'name': 'iPhone 14 Case Black', 'type': ['accessory', 'case'], 'color': 'black', 'price': 12, 'warranty_years': 0.25, 'available': False, 'for': ['dial1', 'dial2']}\n",
            "{'_id': 'dial6', 'name': 'Galaxy Charger', 'type': ['accessory', 'charger'], 'price': 15, 'warranty_years': 0.25, 'for': ['dial3', 'dial4']}\n",
            "{'_id': 'dial11', 'name': 'Galaxy S23 Ultra Case Red', 'type': ['accessory', 'case'], 'color': 'red', 'price': 15, 'warranty_years': 0.25, 'available': True, 'for': 'dial4'}\n",
            "{'_id': 'dial5', 'name': 'iPhone Charger', 'type': ['accessory', 'charger'], 'price': 25, 'warranty_years': 0.25, 'for': ['dial1', 'dial2']}\n",
            "{'_id': 'dial3', 'name': 'Galaxy S23', 'brand': 'Samsung', 'type': 'phone', 'price': 200, 'warranty_years': 1, 'available': False}\n",
            "{'_id': 'dial4', 'name': 'Galaxy S23 Ultra', 'brand': 'Samsung', 'type': 'phone', 'price': 280, 'warranty_years': 1, 'available': False}\n",
            "{'_id': 'dial2', 'name': 'iPhone 14 Pro', 'brand': 'Apple', 'type': 'phone', 'price': 300, 'warranty_years': 1, 'available': False}\n"
          ]
        }
      ]
    },
    {
      "cell_type": "markdown",
      "source": [
        "### Count operation"
      ],
      "metadata": {
        "id": "EEbd3YcKoWE7"
      }
    },
    {
      "cell_type": "code",
      "source": [
        "num_all = collection.count_documents({})\n",
        "num_case = collection.count_documents({\"type\": \"case\"})\n",
        "print(\"# of products:\", num_all)\n",
        "print(\"# of cases:\", num_case)"
      ],
      "metadata": {
        "colab": {
          "base_uri": "https://localhost:8080/"
        },
        "id": "1QvJ6wuioN49",
        "outputId": "153848b0-efe1-4418-aa33-0a3eda384e80"
      },
      "execution_count": 30,
      "outputs": [
        {
          "output_type": "stream",
          "name": "stdout",
          "text": [
            "# of products: 10\n",
            "# of cases: 5\n"
          ]
        }
      ]
    },
    {
      "cell_type": "markdown",
      "source": [
        "## CRUD with Filtering"
      ],
      "metadata": {
        "id": "Fboxgpevoe8M"
      }
    },
    {
      "cell_type": "code",
      "source": [
        "for product in collection.find({\"type\": \"case\"}):\n",
        "    print(product)"
      ],
      "metadata": {
        "colab": {
          "base_uri": "https://localhost:8080/"
        },
        "id": "LcBECtrLoZ30",
        "outputId": "8844aad3-672b-4ba3-c69d-b0928d0fdb20"
      },
      "execution_count": 33,
      "outputs": [
        {
          "output_type": "stream",
          "name": "stdout",
          "text": [
            "{'_id': 'dial7', 'name': 'iPhone 14 Case Green', 'type': ['accessory', 'case'], 'color': 'green', 'price': 12, 'warranty_years': 0}\n",
            "{'_id': 'dial8', 'name': 'iPhone 14 Case Black', 'type': ['accessory', 'case'], 'color': 'black', 'price': 12, 'warranty_years': 0.25, 'available': False, 'for': ['dial1', 'dial2']}\n",
            "{'_id': 'dial9', 'name': 'iPhone 14 Mini Case Yellow', 'type': ['accessory', 'case'], 'color': 'yellow', 'price': 10, 'warranty_years': 0}\n",
            "{'_id': 'dial10', 'name': 'Galaxy S23 Case Green', 'type': ['accessory', 'case'], 'color': 'green', 'price': 10, 'warranty_years': 0}\n",
            "{'_id': 'dial11', 'name': 'Galaxy S23 Ultra Case Red', 'type': ['accessory', 'case'], 'color': 'red', 'price': 15, 'warranty_years': 0.25, 'available': True, 'for': 'dial4'}\n"
          ]
        }
      ]
    },
    {
      "cell_type": "code",
      "source": [
        "for product in collection.find({\"price\": {\"$gt\": 100}}):\n",
        "    print(product)"
      ],
      "metadata": {
        "colab": {
          "base_uri": "https://localhost:8080/"
        },
        "id": "r1hwaTIcomwN",
        "outputId": "cd705657-9bfb-4db6-b8f8-a9f7bb4f3be5"
      },
      "execution_count": 34,
      "outputs": [
        {
          "output_type": "stream",
          "name": "stdout",
          "text": [
            "{'_id': 'dial2', 'name': 'iPhone 14 Pro', 'brand': 'Apple', 'type': 'phone', 'price': 300, 'warranty_years': 1, 'available': False}\n",
            "{'_id': 'dial3', 'name': 'Galaxy S23', 'brand': 'Samsung', 'type': 'phone', 'price': 200, 'warranty_years': 1, 'available': False}\n",
            "{'_id': 'dial4', 'name': 'Galaxy S23 Ultra', 'brand': 'Samsung', 'type': 'phone', 'price': 280, 'warranty_years': 1, 'available': False}\n"
          ]
        }
      ]
    },
    {
      "cell_type": "code",
      "source": [
        "collection.update_many({\"type\": \"case\"}, {\"$set\": {\"warranty_years\": 1}})\n",
        "\n",
        "for product in collection.find({\"type\": \"case\"}):\n",
        "    print(product)"
      ],
      "metadata": {
        "colab": {
          "base_uri": "https://localhost:8080/"
        },
        "id": "6ya-bWbYooTf",
        "outputId": "24491c02-163f-4ea5-da75-afaabf36d1a7"
      },
      "execution_count": 35,
      "outputs": [
        {
          "output_type": "stream",
          "name": "stdout",
          "text": [
            "{'_id': 'dial7', 'name': 'iPhone 14 Case Green', 'type': ['accessory', 'case'], 'color': 'green', 'price': 12, 'warranty_years': 1}\n",
            "{'_id': 'dial8', 'name': 'iPhone 14 Case Black', 'type': ['accessory', 'case'], 'color': 'black', 'price': 12, 'warranty_years': 1, 'available': False, 'for': ['dial1', 'dial2']}\n",
            "{'_id': 'dial9', 'name': 'iPhone 14 Mini Case Yellow', 'type': ['accessory', 'case'], 'color': 'yellow', 'price': 10, 'warranty_years': 1}\n",
            "{'_id': 'dial10', 'name': 'Galaxy S23 Case Green', 'type': ['accessory', 'case'], 'color': 'green', 'price': 10, 'warranty_years': 1}\n",
            "{'_id': 'dial11', 'name': 'Galaxy S23 Ultra Case Red', 'type': ['accessory', 'case'], 'color': 'red', 'price': 15, 'warranty_years': 1, 'available': True, 'for': 'dial4'}\n"
          ]
        }
      ]
    },
    {
      "cell_type": "code",
      "source": [
        "collection.update_one({\"_id\": \"dial8\"}, {\"$pull\": {\"for\": \"dial2\"}})\n",
        "\n",
        "for product in collection.find():\n",
        "    print(product)"
      ],
      "metadata": {
        "colab": {
          "base_uri": "https://localhost:8080/"
        },
        "id": "qceXrvK5o5Vg",
        "outputId": "91abd92f-10ff-481c-83e6-907ba63daa5f"
      },
      "execution_count": 40,
      "outputs": [
        {
          "output_type": "stream",
          "name": "stdout",
          "text": [
            "{'_id': 'dial2', 'name': 'iPhone 14 Pro', 'brand': 'Apple', 'type': 'phone', 'price': 300, 'warranty_years': 1, 'available': False}\n",
            "{'_id': 'dial3', 'name': 'Galaxy S23', 'brand': 'Samsung', 'type': 'phone', 'price': 200, 'warranty_years': 1, 'available': False}\n",
            "{'_id': 'dial4', 'name': 'Galaxy S23 Ultra', 'brand': 'Samsung', 'type': 'phone', 'price': 280, 'warranty_years': 1, 'available': False}\n",
            "{'_id': 'dial5', 'name': 'iPhone Charger', 'type': ['accessory', 'charger'], 'price': 25, 'warranty_years': 0.25, 'for': ['dial1', 'dial2']}\n",
            "{'_id': 'dial6', 'name': 'Galaxy Charger', 'type': ['accessory', 'charger'], 'price': 15, 'warranty_years': 0.25, 'for': ['dial3', 'dial4']}\n",
            "{'_id': 'dial7', 'name': 'iPhone 14 Case Green', 'type': ['accessory', 'case'], 'color': 'green', 'price': 12, 'warranty_years': 1}\n",
            "{'_id': 'dial8', 'name': 'iPhone 14 Case Black', 'type': ['accessory', 'case'], 'color': 'black', 'price': 12, 'warranty_years': 1, 'available': False, 'for': ['dial1']}\n",
            "{'_id': 'dial9', 'name': 'iPhone 14 Mini Case Yellow', 'type': ['accessory', 'case'], 'color': 'yellow', 'price': 10, 'warranty_years': 1}\n",
            "{'_id': 'dial10', 'name': 'Galaxy S23 Case Green', 'type': ['accessory', 'case'], 'color': 'green', 'price': 10, 'warranty_years': 1}\n",
            "{'_id': 'dial11', 'name': 'Galaxy S23 Ultra Case Red', 'type': ['accessory', 'case'], 'color': 'red', 'price': 15, 'warranty_years': 1, 'available': True, 'for': 'dial4'}\n"
          ]
        }
      ]
    },
    {
      "cell_type": "code",
      "source": [
        "collection.delete_one({\"name\": \"Galaxy S23 Case Green\"})"
      ],
      "metadata": {
        "colab": {
          "base_uri": "https://localhost:8080/"
        },
        "id": "SlqvERP1pAMn",
        "outputId": "061aa3ee-c485-4878-feb5-0f284c8b036f"
      },
      "execution_count": 41,
      "outputs": [
        {
          "output_type": "execute_result",
          "data": {
            "text/plain": [
              "DeleteResult({'n': 1, 'electionId': ObjectId('7fffffff00000000000000ad'), 'opTime': {'ts': Timestamp(1730362591, 2), 't': 173}, 'ok': 1.0, '$clusterTime': {'clusterTime': Timestamp(1730362591, 2), 'signature': {'hash': b'[J\\xaa\\xc8\\x16\\xf7T\\x82\\t\\xcda\\xde\\xd7\\x0b\\xd3\\xba\\xa8\\xdc\\xb6M', 'keyId': 7384356045314850820}}, 'operationTime': Timestamp(1730362591, 2)}, acknowledged=True)"
            ]
          },
          "metadata": {},
          "execution_count": 41
        }
      ]
    },
    {
      "cell_type": "code",
      "source": [
        "collection.delete_many({\"brand\": \"Apple\"})"
      ],
      "metadata": {
        "colab": {
          "base_uri": "https://localhost:8080/"
        },
        "id": "aYHOqwrWpcZj",
        "outputId": "2dad4096-41bd-442e-a87d-601838137fa4"
      },
      "execution_count": 42,
      "outputs": [
        {
          "output_type": "execute_result",
          "data": {
            "text/plain": [
              "DeleteResult({'n': 1, 'electionId': ObjectId('7fffffff00000000000000ad'), 'opTime': {'ts': Timestamp(1730362603, 6), 't': 173}, 'ok': 1.0, '$clusterTime': {'clusterTime': Timestamp(1730362603, 6), 'signature': {'hash': b\"\\xee'\\xba/rL8\\x95\\xcbl\\xd5ZT\\xc5\\xbb\\xb1\\x10 \\xbc\\xa8\", 'keyId': 7384356045314850820}}, 'operationTime': Timestamp(1730362603, 6)}, acknowledged=True)"
            ]
          },
          "metadata": {},
          "execution_count": 42
        }
      ]
    },
    {
      "cell_type": "code",
      "source": [
        "for product in collection.find({\"price\": {\"$lte\": 100}}).sort(\"price\", -1):\n",
        "    print(product)"
      ],
      "metadata": {
        "colab": {
          "base_uri": "https://localhost:8080/"
        },
        "id": "ta1qDyNVpg7N",
        "outputId": "055c6049-2448-405e-cbf8-54da4e37325d"
      },
      "execution_count": 43,
      "outputs": [
        {
          "output_type": "stream",
          "name": "stdout",
          "text": [
            "{'_id': 'dial5', 'name': 'iPhone Charger', 'type': ['accessory', 'charger'], 'price': 25, 'warranty_years': 0.25, 'for': ['dial1', 'dial2']}\n",
            "{'_id': 'dial6', 'name': 'Galaxy Charger', 'type': ['accessory', 'charger'], 'price': 15, 'warranty_years': 0.25, 'for': ['dial3', 'dial4']}\n",
            "{'_id': 'dial11', 'name': 'Galaxy S23 Ultra Case Red', 'type': ['accessory', 'case'], 'color': 'red', 'price': 15, 'warranty_years': 1, 'available': True, 'for': 'dial4'}\n",
            "{'_id': 'dial7', 'name': 'iPhone 14 Case Green', 'type': ['accessory', 'case'], 'color': 'green', 'price': 12, 'warranty_years': 1}\n",
            "{'_id': 'dial8', 'name': 'iPhone 14 Case Black', 'type': ['accessory', 'case'], 'color': 'black', 'price': 12, 'warranty_years': 1, 'available': False, 'for': ['dial1']}\n",
            "{'_id': 'dial9', 'name': 'iPhone 14 Mini Case Yellow', 'type': ['accessory', 'case'], 'color': 'yellow', 'price': 10, 'warranty_years': 1}\n"
          ]
        }
      ]
    },
    {
      "cell_type": "code",
      "source": [
        "collection.update_many({\"type\": \"phone\"}, {\"$set\": {\"warranty_years\": 2}})\n",
        "\n",
        "results = collection.find({\"type\": \"phone\"})\n",
        "for result in results:\n",
        "    print(result)"
      ],
      "metadata": {
        "colab": {
          "base_uri": "https://localhost:8080/"
        },
        "id": "PYiZtvAgpfaV",
        "outputId": "0091315d-dacc-4313-ceb5-0a6476d2f268"
      },
      "execution_count": 44,
      "outputs": [
        {
          "output_type": "stream",
          "name": "stdout",
          "text": [
            "{'_id': 'dial3', 'name': 'Galaxy S23', 'brand': 'Samsung', 'type': 'phone', 'price': 200, 'warranty_years': 2, 'available': False}\n",
            "{'_id': 'dial4', 'name': 'Galaxy S23 Ultra', 'brand': 'Samsung', 'type': 'phone', 'price': 280, 'warranty_years': 2, 'available': False}\n"
          ]
        }
      ]
    },
    {
      "cell_type": "code",
      "source": [
        "collection.update_many({\"type\": \"charger\"}, {\"$mul\": {\"price\": 1.2}})\n",
        "for product in collection.find({\"type\": \"charger\"}):\n",
        "    print(product)"
      ],
      "metadata": {
        "colab": {
          "base_uri": "https://localhost:8080/"
        },
        "id": "BBEyGdo9pmuY",
        "outputId": "54221c0a-d784-4d12-8f4c-9da0ccd54da0"
      },
      "execution_count": 45,
      "outputs": [
        {
          "output_type": "stream",
          "name": "stdout",
          "text": [
            "{'_id': 'dial5', 'name': 'iPhone Charger', 'type': ['accessory', 'charger'], 'price': 30.0, 'warranty_years': 0.25, 'for': ['dial1', 'dial2']}\n",
            "{'_id': 'dial6', 'name': 'Galaxy Charger', 'type': ['accessory', 'charger'], 'price': 18.0, 'warranty_years': 0.25, 'for': ['dial3', 'dial4']}\n"
          ]
        }
      ]
    },
    {
      "cell_type": "code",
      "source": [
        "collection.delete_many({\"type\": \"case\"})\n",
        "for product in collection.find({\"type\": \"case\"}):\n",
        "    print(product)"
      ],
      "metadata": {
        "id": "ca3AP4cvpqXe"
      },
      "execution_count": 46,
      "outputs": []
    },
    {
      "cell_type": "code",
      "source": [
        "collection.delete_many({\"$and\": [{\"color\": \"green\"}, {\"price\": {\"$lte\": 12}}]})\n",
        "for product in collection.find({\"$and\": [{\"color\": \"green\"}, {\"price\": {\"$lte\": 12}}]}):\n",
        "    print(product)"
      ],
      "metadata": {
        "id": "4LP6vGbXpudB"
      },
      "execution_count": 47,
      "outputs": []
    },
    {
      "cell_type": "code",
      "source": [],
      "metadata": {
        "id": "Alx6rHIQp1J_"
      },
      "execution_count": null,
      "outputs": []
    }
  ]
}