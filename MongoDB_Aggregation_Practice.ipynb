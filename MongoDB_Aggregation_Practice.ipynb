{
  "nbformat": 4,
  "nbformat_minor": 0,
  "metadata": {
    "colab": {
      "provenance": [],
      "authorship_tag": "ABX9TyN/W2IBqQMkwHLDQu+XA8jj",
      "include_colab_link": true
    },
    "kernelspec": {
      "name": "python3",
      "display_name": "Python 3"
    },
    "language_info": {
      "name": "python"
    }
  },
  "cells": [
    {
      "cell_type": "markdown",
      "metadata": {
        "id": "view-in-github",
        "colab_type": "text"
      },
      "source": [
        "<a href=\"https://colab.research.google.com/github/JihunSKKU/PyMongo/blob/main/MongoDB_Aggregation_Practice.ipynb\" target=\"_parent\"><img src=\"https://colab.research.google.com/assets/colab-badge.svg\" alt=\"Open In Colab\"/></a>"
      ]
    },
    {
      "cell_type": "code",
      "source": [
        "!pip install pymongo"
      ],
      "metadata": {
        "colab": {
          "base_uri": "https://localhost:8080/"
        },
        "id": "E0o7l1DAPxYg",
        "outputId": "801a42d3-a7aa-4625-bd00-9c17e93d16ea"
      },
      "execution_count": 2,
      "outputs": [
        {
          "output_type": "stream",
          "name": "stdout",
          "text": [
            "Collecting pymongo\n",
            "  Downloading pymongo-4.10.1-cp310-cp310-manylinux_2_17_x86_64.manylinux2014_x86_64.whl.metadata (22 kB)\n",
            "Collecting dnspython<3.0.0,>=1.16.0 (from pymongo)\n",
            "  Downloading dnspython-2.7.0-py3-none-any.whl.metadata (5.8 kB)\n",
            "Downloading pymongo-4.10.1-cp310-cp310-manylinux_2_17_x86_64.manylinux2014_x86_64.whl (1.4 MB)\n",
            "\u001b[2K   \u001b[90m━━━━━━━━━━━━━━━━━━━━━━━━━━━━━━━━━━━━━━━━\u001b[0m \u001b[32m1.4/1.4 MB\u001b[0m \u001b[31m20.1 MB/s\u001b[0m eta \u001b[36m0:00:00\u001b[0m\n",
            "\u001b[?25hDownloading dnspython-2.7.0-py3-none-any.whl (313 kB)\n",
            "\u001b[2K   \u001b[90m━━━━━━━━━━━━━━━━━━━━━━━━━━━━━━━━━━━━━━━━\u001b[0m \u001b[32m313.6/313.6 kB\u001b[0m \u001b[31m17.5 MB/s\u001b[0m eta \u001b[36m0:00:00\u001b[0m\n",
            "\u001b[?25hInstalling collected packages: dnspython, pymongo\n",
            "Successfully installed dnspython-2.7.0 pymongo-4.10.1\n"
          ]
        }
      ]
    },
    {
      "cell_type": "code",
      "execution_count": 3,
      "metadata": {
        "id": "1XwLvLWSPpP4"
      },
      "outputs": [],
      "source": [
        "import pymongo\n",
        "from pymongo import MongoClient"
      ]
    },
    {
      "cell_type": "code",
      "source": [
        "CONNECTION_STRING = \"---\"\n",
        "my_client = MongoClient(CONNECTION_STRING)\n",
        "\n",
        "database = my_client['root']\n",
        "collection = database['products2']"
      ],
      "metadata": {
        "id": "HJYjCSiWPvzt"
      },
      "execution_count": 27,
      "outputs": []
    },
    {
      "cell_type": "code",
      "source": [
        "import json\n",
        "\n",
        "doc_list = []\n",
        "for line in open('products.json', 'r'):\n",
        "    doc_list.append(json.loads(line))"
      ],
      "metadata": {
        "id": "LetZcQobSVrH"
      },
      "execution_count": 28,
      "outputs": []
    },
    {
      "cell_type": "code",
      "source": [
        "try:\n",
        "    collection.insert_many(doc_list)\n",
        "except pymongo.errors.BulkWriteError:\n",
        "    pass\n",
        "    # if there is a document with the same id as the added document\n",
        "    # list, do not include the list itself."
      ],
      "metadata": {
        "id": "B28Wk169SZwt"
      },
      "execution_count": 29,
      "outputs": []
    },
    {
      "cell_type": "markdown",
      "source": [
        "## Aggregation Operation"
      ],
      "metadata": {
        "id": "UC_CnhrmRlEL"
      }
    },
    {
      "cell_type": "markdown",
      "source": [
        "### $match"
      ],
      "metadata": {
        "id": "LCMz_o99TM1L"
      }
    },
    {
      "cell_type": "code",
      "source": [
        "samsungs = collection.aggregate([{\"$match\": {\"brand\": \"Samsung\"}}])\n",
        "for samsung in samsungs:\n",
        "    print(samsung)"
      ],
      "metadata": {
        "colab": {
          "base_uri": "https://localhost:8080/"
        },
        "id": "pOPj3dj6Qm1n",
        "outputId": "7e29ca03-1b55-4809-d487-41cc93175268"
      },
      "execution_count": 30,
      "outputs": [
        {
          "output_type": "stream",
          "name": "stdout",
          "text": [
            "{'_id': 'dial3', 'name': 'Galaxy S23', 'brand': 'Samsung', 'type': 'phone', 'price': 200, 'warranty_years': 1, 'available': False}\n",
            "{'_id': 'dial4', 'name': 'Galaxy S23 Ultra', 'brand': 'Samsung', 'type': 'phone', 'price': 280, 'warranty_years': 1, 'available': False}\n"
          ]
        }
      ]
    },
    {
      "cell_type": "markdown",
      "source": [
        "### $project"
      ],
      "metadata": {
        "id": "6hxK95Z_TIsX"
      }
    },
    {
      "cell_type": "markdown",
      "source": [
        "0: Specifies the inclusion of a field"
      ],
      "metadata": {
        "id": "_M3sF3v0StFm"
      }
    },
    {
      "cell_type": "code",
      "source": [
        "brands = collection.aggregate([{\"$project\": {\"brand\": 0}}])\n",
        "for brand in brands:\n",
        "    print(brand)"
      ],
      "metadata": {
        "colab": {
          "base_uri": "https://localhost:8080/"
        },
        "id": "XrUhetnvRgeg",
        "outputId": "c1a8d012-e292-4d56-e878-29484e2c20a4"
      },
      "execution_count": 32,
      "outputs": [
        {
          "output_type": "stream",
          "name": "stdout",
          "text": [
            "{'_id': 'dial1', 'name': 'iPhone 14', 'type': 'phone', 'price': 250, 'warranty_years': 1, 'available': True}\n",
            "{'_id': 'dial2', 'name': 'iPhone 14 Pro', 'type': 'phone', 'price': 300, 'warranty_years': 1, 'available': False}\n",
            "{'_id': 'dial3', 'name': 'Galaxy S23', 'type': 'phone', 'price': 200, 'warranty_years': 1, 'available': False}\n",
            "{'_id': 'dial4', 'name': 'Galaxy S23 Ultra', 'type': 'phone', 'price': 280, 'warranty_years': 1, 'available': False}\n",
            "{'_id': 'dial5', 'name': 'iPhone Charger', 'type': ['accessory', 'charger'], 'price': 25, 'warranty_years': 0.25, 'for': ['dial1', 'dial2']}\n",
            "{'_id': 'dial6', 'name': 'Galaxy Charger', 'type': ['accessory', 'charger'], 'price': 15, 'warranty_years': 0.25, 'for': ['dial3', 'dial4']}\n",
            "{'_id': 'dial7', 'name': 'iPhone 14 Case Green', 'type': ['accessory', 'case'], 'color': 'green', 'price': 12, 'warranty_years': 0}\n",
            "{'_id': 'dial8', 'name': 'iPhone 14 Case Black', 'type': ['accessory', 'case'], 'color': 'black', 'price': 12, 'warranty_years': 0.25, 'available': False, 'for': ['dial1', 'dial2']}\n",
            "{'_id': 'dial9', 'name': 'iPhone 14 Mini Case Yellow', 'type': ['accessory', 'case'], 'color': 'yellow', 'price': 10, 'warranty_years': 0}\n",
            "{'_id': 'dial10', 'name': 'Galaxy S23 Case Green', 'type': ['accessory', 'case'], 'color': 'green', 'price': 10, 'warranty_years': 0}\n",
            "{'_id': 'dial11', 'name': 'Galaxy S23 Ultra Case Red', 'type': ['accessory', 'case'], 'color': 'red', 'price': 15, 'warranty_years': 0.25, 'available': True, 'for': 'dial4'}\n"
          ]
        }
      ]
    },
    {
      "cell_type": "markdown",
      "source": [
        "1: Specifies the exclusion of a field"
      ],
      "metadata": {
        "id": "hjyOL2zBSupX"
      }
    },
    {
      "cell_type": "code",
      "source": [
        "brands = collection.aggregate([{\"$project\": {\"brand\": 1}}])\n",
        "for brand in brands:\n",
        "    print(brand)"
      ],
      "metadata": {
        "colab": {
          "base_uri": "https://localhost:8080/"
        },
        "id": "Tp6gz4ewQ68p",
        "outputId": "6c37d281-0e63-4e94-d5a9-c1470b5b08e7"
      },
      "execution_count": 31,
      "outputs": [
        {
          "output_type": "stream",
          "name": "stdout",
          "text": [
            "{'_id': 'dial1', 'brand': 'Apple'}\n",
            "{'_id': 'dial2', 'brand': 'Apple'}\n",
            "{'_id': 'dial3', 'brand': 'Samsung'}\n",
            "{'_id': 'dial4', 'brand': 'Samsung'}\n",
            "{'_id': 'dial5'}\n",
            "{'_id': 'dial6'}\n",
            "{'_id': 'dial7'}\n",
            "{'_id': 'dial8'}\n",
            "{'_id': 'dial9'}\n",
            "{'_id': 'dial10'}\n",
            "{'_id': 'dial11'}\n"
          ]
        }
      ]
    },
    {
      "cell_type": "markdown",
      "source": [
        "### $group"
      ],
      "metadata": {
        "id": "6emCFBg4TFe7"
      }
    },
    {
      "cell_type": "code",
      "source": [
        "brands = collection.aggregate([\n",
        "    {\n",
        "        \"$group\": {\n",
        "            \"_id\": \"$brand\",\n",
        "            \"names\": {\"$push\": \"$name\"}\n",
        "        }\n",
        "    }\n",
        "])\n",
        "for brand in brands:\n",
        "    print(brand)"
      ],
      "metadata": {
        "colab": {
          "base_uri": "https://localhost:8080/"
        },
        "id": "mI_7brINR16m",
        "outputId": "c946b9eb-8a1d-4d9a-cd11-63eaac7e157e"
      },
      "execution_count": 33,
      "outputs": [
        {
          "output_type": "stream",
          "name": "stdout",
          "text": [
            "{'_id': None, 'names': ['iPhone Charger', 'Galaxy Charger', 'iPhone 14 Case Green', 'iPhone 14 Case Black', 'iPhone 14 Mini Case Yellow', 'Galaxy S23 Case Green', 'Galaxy S23 Ultra Case Red']}\n",
            "{'_id': 'Samsung', 'names': ['Galaxy S23', 'Galaxy S23 Ultra']}\n",
            "{'_id': 'Apple', 'names': ['iPhone 14', 'iPhone 14 Pro']}\n"
          ]
        }
      ]
    },
    {
      "cell_type": "markdown",
      "source": [
        "### $sort"
      ],
      "metadata": {
        "id": "ADYMcy_VTDT_"
      }
    },
    {
      "cell_type": "markdown",
      "source": [
        "- Ascending: 1\n",
        "- Descending: -1"
      ],
      "metadata": {
        "id": "YKra-yySTVU5"
      }
    },
    {
      "cell_type": "code",
      "source": [
        "name_sorts = collection.aggregate([{\"$sort\": {\"name\": 1}}])\n",
        "for name_sort in name_sorts:\n",
        "    print(name_sort)"
      ],
      "metadata": {
        "colab": {
          "base_uri": "https://localhost:8080/"
        },
        "id": "FvXNMU8_S6Kz",
        "outputId": "612e1cec-c9ae-4b00-af41-90b9f9c86518"
      },
      "execution_count": 34,
      "outputs": [
        {
          "output_type": "stream",
          "name": "stdout",
          "text": [
            "{'_id': 'dial6', 'name': 'Galaxy Charger', 'type': ['accessory', 'charger'], 'price': 15, 'warranty_years': 0.25, 'for': ['dial3', 'dial4']}\n",
            "{'_id': 'dial3', 'name': 'Galaxy S23', 'brand': 'Samsung', 'type': 'phone', 'price': 200, 'warranty_years': 1, 'available': False}\n",
            "{'_id': 'dial10', 'name': 'Galaxy S23 Case Green', 'type': ['accessory', 'case'], 'color': 'green', 'price': 10, 'warranty_years': 0}\n",
            "{'_id': 'dial4', 'name': 'Galaxy S23 Ultra', 'brand': 'Samsung', 'type': 'phone', 'price': 280, 'warranty_years': 1, 'available': False}\n",
            "{'_id': 'dial11', 'name': 'Galaxy S23 Ultra Case Red', 'type': ['accessory', 'case'], 'color': 'red', 'price': 15, 'warranty_years': 0.25, 'available': True, 'for': 'dial4'}\n",
            "{'_id': 'dial1', 'name': 'iPhone 14', 'brand': 'Apple', 'type': 'phone', 'price': 250, 'warranty_years': 1, 'available': True}\n",
            "{'_id': 'dial8', 'name': 'iPhone 14 Case Black', 'type': ['accessory', 'case'], 'color': 'black', 'price': 12, 'warranty_years': 0.25, 'available': False, 'for': ['dial1', 'dial2']}\n",
            "{'_id': 'dial7', 'name': 'iPhone 14 Case Green', 'type': ['accessory', 'case'], 'color': 'green', 'price': 12, 'warranty_years': 0}\n",
            "{'_id': 'dial9', 'name': 'iPhone 14 Mini Case Yellow', 'type': ['accessory', 'case'], 'color': 'yellow', 'price': 10, 'warranty_years': 0}\n",
            "{'_id': 'dial2', 'name': 'iPhone 14 Pro', 'brand': 'Apple', 'type': 'phone', 'price': 300, 'warranty_years': 1, 'available': False}\n",
            "{'_id': 'dial5', 'name': 'iPhone Charger', 'type': ['accessory', 'charger'], 'price': 25, 'warranty_years': 0.25, 'for': ['dial1', 'dial2']}\n"
          ]
        }
      ]
    },
    {
      "cell_type": "markdown",
      "source": [
        "### $sum"
      ],
      "metadata": {
        "id": "F3BgGWG8TRyv"
      }
    },
    {
      "cell_type": "code",
      "source": [
        "price_sums = collection.aggregate([{\"$group\": {\"_id\": \"$type\", \"price\": {\"$sum\": \"$price\"}}}])\n",
        "for price_sum in price_sums:\n",
        "    print(price_sum)"
      ],
      "metadata": {
        "colab": {
          "base_uri": "https://localhost:8080/"
        },
        "id": "qa_gRSGQTCz7",
        "outputId": "8be9e2bb-5f4e-4aa3-b2bb-39493f99fd50"
      },
      "execution_count": 36,
      "outputs": [
        {
          "output_type": "stream",
          "name": "stdout",
          "text": [
            "{'_id': ['accessory', 'case'], 'price': 59}\n",
            "{'_id': 'phone', 'price': 1030}\n",
            "{'_id': ['accessory', 'charger'], 'price': 40}\n"
          ]
        }
      ]
    },
    {
      "cell_type": "markdown",
      "source": [
        "### $unwind\n"
      ],
      "metadata": {
        "id": "VbeY--eHTcnn"
      }
    },
    {
      "cell_type": "code",
      "source": [
        "unwind_types = collection.aggregate([\n",
        "    {'$project': {'type': 1}},\n",
        "    {'$unwind': '$type'}\n",
        "])\n",
        "for unwind_type in unwind_types:\n",
        "    print(unwind_type)"
      ],
      "metadata": {
        "colab": {
          "base_uri": "https://localhost:8080/"
        },
        "id": "J3Mumnk_TYnb",
        "outputId": "040c1d76-f127-4836-938a-c9dab0ba251e"
      },
      "execution_count": 38,
      "outputs": [
        {
          "output_type": "stream",
          "name": "stdout",
          "text": [
            "{'_id': 'dial1', 'type': 'phone'}\n",
            "{'_id': 'dial2', 'type': 'phone'}\n",
            "{'_id': 'dial3', 'type': 'phone'}\n",
            "{'_id': 'dial4', 'type': 'phone'}\n",
            "{'_id': 'dial5', 'type': 'accessory'}\n",
            "{'_id': 'dial5', 'type': 'charger'}\n",
            "{'_id': 'dial6', 'type': 'accessory'}\n",
            "{'_id': 'dial6', 'type': 'charger'}\n",
            "{'_id': 'dial7', 'type': 'accessory'}\n",
            "{'_id': 'dial7', 'type': 'case'}\n",
            "{'_id': 'dial8', 'type': 'accessory'}\n",
            "{'_id': 'dial8', 'type': 'case'}\n",
            "{'_id': 'dial9', 'type': 'accessory'}\n",
            "{'_id': 'dial9', 'type': 'case'}\n",
            "{'_id': 'dial10', 'type': 'accessory'}\n",
            "{'_id': 'dial10', 'type': 'case'}\n",
            "{'_id': 'dial11', 'type': 'accessory'}\n",
            "{'_id': 'dial11', 'type': 'case'}\n"
          ]
        }
      ]
    },
    {
      "cell_type": "markdown",
      "source": [
        "### Exercise"
      ],
      "metadata": {
        "id": "LSWLG1xFTkmo"
      }
    },
    {
      "cell_type": "code",
      "source": [
        "chargers = collection.aggregate([{\"$match\": {\"type\": \"charger\"}}])\n",
        "for charger in chargers:\n",
        "    print(charger)"
      ],
      "metadata": {
        "colab": {
          "base_uri": "https://localhost:8080/"
        },
        "id": "fDTrO_unTgLM",
        "outputId": "5c325581-64e8-4b5c-edce-1e9a9d4d6784"
      },
      "execution_count": 39,
      "outputs": [
        {
          "output_type": "stream",
          "name": "stdout",
          "text": [
            "{'_id': 'dial5', 'name': 'iPhone Charger', 'type': ['accessory', 'charger'], 'price': 25, 'warranty_years': 0.25, 'for': ['dial1', 'dial2']}\n",
            "{'_id': 'dial6', 'name': 'Galaxy Charger', 'type': ['accessory', 'charger'], 'price': 15, 'warranty_years': 0.25, 'for': ['dial3', 'dial4']}\n"
          ]
        }
      ]
    },
    {
      "cell_type": "code",
      "source": [
        "price_sorts = collection.aggregate([{\"$sort\": {\"price\": -1}}])\n",
        "for price_sort in price_sorts:\n",
        "    print(price_sort)"
      ],
      "metadata": {
        "colab": {
          "base_uri": "https://localhost:8080/"
        },
        "id": "I7FlojdnTqh8",
        "outputId": "e969c283-2ece-455a-b6c3-b79c7bbd4a76"
      },
      "execution_count": 40,
      "outputs": [
        {
          "output_type": "stream",
          "name": "stdout",
          "text": [
            "{'_id': 'dial2', 'name': 'iPhone 14 Pro', 'brand': 'Apple', 'type': 'phone', 'price': 300, 'warranty_years': 1, 'available': False}\n",
            "{'_id': 'dial4', 'name': 'Galaxy S23 Ultra', 'brand': 'Samsung', 'type': 'phone', 'price': 280, 'warranty_years': 1, 'available': False}\n",
            "{'_id': 'dial1', 'name': 'iPhone 14', 'brand': 'Apple', 'type': 'phone', 'price': 250, 'warranty_years': 1, 'available': True}\n",
            "{'_id': 'dial3', 'name': 'Galaxy S23', 'brand': 'Samsung', 'type': 'phone', 'price': 200, 'warranty_years': 1, 'available': False}\n",
            "{'_id': 'dial5', 'name': 'iPhone Charger', 'type': ['accessory', 'charger'], 'price': 25, 'warranty_years': 0.25, 'for': ['dial1', 'dial2']}\n",
            "{'_id': 'dial6', 'name': 'Galaxy Charger', 'type': ['accessory', 'charger'], 'price': 15, 'warranty_years': 0.25, 'for': ['dial3', 'dial4']}\n",
            "{'_id': 'dial11', 'name': 'Galaxy S23 Ultra Case Red', 'type': ['accessory', 'case'], 'color': 'red', 'price': 15, 'warranty_years': 0.25, 'available': True, 'for': 'dial4'}\n",
            "{'_id': 'dial7', 'name': 'iPhone 14 Case Green', 'type': ['accessory', 'case'], 'color': 'green', 'price': 12, 'warranty_years': 0}\n",
            "{'_id': 'dial8', 'name': 'iPhone 14 Case Black', 'type': ['accessory', 'case'], 'color': 'black', 'price': 12, 'warranty_years': 0.25, 'available': False, 'for': ['dial1', 'dial2']}\n",
            "{'_id': 'dial9', 'name': 'iPhone 14 Mini Case Yellow', 'type': ['accessory', 'case'], 'color': 'yellow', 'price': 10, 'warranty_years': 0}\n",
            "{'_id': 'dial10', 'name': 'Galaxy S23 Case Green', 'type': ['accessory', 'case'], 'color': 'green', 'price': 10, 'warranty_years': 0}\n"
          ]
        }
      ]
    },
    {
      "cell_type": "code",
      "source": [
        "price_sums = collection.aggregate([\n",
        "    {\"$match\": {\"$or\": [{\"type\": \"charger\"}, {\"type\": \"case\"}]}},\n",
        "    {\"$group\": {\"_id\": \"$type\", \"price\": {\"$sum\": \"$price\"}}}\n",
        "])\n",
        "for price_sum in price_sums:\n",
        "    print(price_sum)"
      ],
      "metadata": {
        "colab": {
          "base_uri": "https://localhost:8080/"
        },
        "id": "SZd6fWySTrH3",
        "outputId": "c45fd580-f5d9-4699-9ae7-de38f229208a"
      },
      "execution_count": 41,
      "outputs": [
        {
          "output_type": "stream",
          "name": "stdout",
          "text": [
            "{'_id': ['accessory', 'case'], 'price': 59}\n",
            "{'_id': ['accessory', 'charger'], 'price': 40}\n"
          ]
        }
      ]
    },
    {
      "cell_type": "code",
      "source": [
        "phone_sorts = collection.aggregate([\n",
        "    {\"$match\": {\"$and\": [\n",
        "                        {\"type\": \"phone\"},\n",
        "                        {\"price\": {\"$gte\": 250}}\n",
        "                        ]\n",
        "                }\n",
        "    },\n",
        "    {\"$sort\": {\"price\": -1}}\n",
        "])\n",
        "for phone_sort in phone_sorts:\n",
        "    print(phone_sort)"
      ],
      "metadata": {
        "colab": {
          "base_uri": "https://localhost:8080/"
        },
        "id": "_PhNZpo5T3Ik",
        "outputId": "9e38e438-ff94-40fc-cac3-8621c2623f60"
      },
      "execution_count": 42,
      "outputs": [
        {
          "output_type": "stream",
          "name": "stdout",
          "text": [
            "{'_id': 'dial2', 'name': 'iPhone 14 Pro', 'brand': 'Apple', 'type': 'phone', 'price': 300, 'warranty_years': 1, 'available': False}\n",
            "{'_id': 'dial4', 'name': 'Galaxy S23 Ultra', 'brand': 'Samsung', 'type': 'phone', 'price': 280, 'warranty_years': 1, 'available': False}\n",
            "{'_id': 'dial1', 'name': 'iPhone 14', 'brand': 'Apple', 'type': 'phone', 'price': 250, 'warranty_years': 1, 'available': True}\n"
          ]
        }
      ]
    },
    {
      "cell_type": "code",
      "source": [
        "phone_sorts = collection.aggregate([\n",
        "    {\"$match\": {\"$and\": [\n",
        "                        {\"type\": \"phone\"},\n",
        "                        {\"price\": {\"$gte\": 250}}\n",
        "                        ]\n",
        "                }\n",
        "    },\n",
        "    {\"$sort\": {\"price\": -1}}\n",
        "])\n",
        "for phone_sort in phone_sorts:\n",
        "    print(phone_sort)\n"
      ],
      "metadata": {
        "colab": {
          "base_uri": "https://localhost:8080/"
        },
        "id": "T1ZzvMc_UBAB",
        "outputId": "4ffe4c10-a5dd-4643-9af8-4c6bbac15168"
      },
      "execution_count": 44,
      "outputs": [
        {
          "output_type": "stream",
          "name": "stdout",
          "text": [
            "{'_id': 'dial2', 'name': 'iPhone 14 Pro', 'brand': 'Apple', 'type': 'phone', 'price': 300, 'warranty_years': 1, 'available': False}\n",
            "{'_id': 'dial4', 'name': 'Galaxy S23 Ultra', 'brand': 'Samsung', 'type': 'phone', 'price': 280, 'warranty_years': 1, 'available': False}\n",
            "{'_id': 'dial1', 'name': 'iPhone 14', 'brand': 'Apple', 'type': 'phone', 'price': 250, 'warranty_years': 1, 'available': True}\n"
          ]
        }
      ]
    },
    {
      "cell_type": "code",
      "source": [
        "case_colors = collection.aggregate([\n",
        "    {\"$match\": {\"type\": \"case\"}},\n",
        "    {\"$group\": {\"_id\": \"$color\", \"name\": {\"$push\": \"$name\"}}}\n",
        "])\n",
        "for case_color in case_colors:\n",
        "    print(case_color)"
      ],
      "metadata": {
        "colab": {
          "base_uri": "https://localhost:8080/"
        },
        "id": "2Ef98tPtUG5j",
        "outputId": "f30026cb-2d8a-49e8-c55c-3e612198a29a"
      },
      "execution_count": 45,
      "outputs": [
        {
          "output_type": "stream",
          "name": "stdout",
          "text": [
            "{'_id': 'yellow', 'name': ['iPhone 14 Mini Case Yellow']}\n",
            "{'_id': 'green', 'name': ['iPhone 14 Case Green', 'Galaxy S23 Case Green']}\n",
            "{'_id': 'black', 'name': ['iPhone 14 Case Black']}\n",
            "{'_id': 'red', 'name': ['Galaxy S23 Ultra Case Red']}\n"
          ]
        }
      ]
    },
    {
      "cell_type": "code",
      "source": [
        "results = collection.aggregate([\n",
        "    {'$match': {'type': {'$all': ['accessory', 'case']}}},\n",
        "])\n",
        "for doc in results:\n",
        "    print(doc)"
      ],
      "metadata": {
        "colab": {
          "base_uri": "https://localhost:8080/"
        },
        "id": "y7Vfr7V8UKRH",
        "outputId": "0f373bec-b414-46fa-d684-060c22aa2f8c"
      },
      "execution_count": 46,
      "outputs": [
        {
          "output_type": "stream",
          "name": "stdout",
          "text": [
            "{'_id': 'dial7', 'name': 'iPhone 14 Case Green', 'type': ['accessory', 'case'], 'color': 'green', 'price': 12, 'warranty_years': 0}\n",
            "{'_id': 'dial8', 'name': 'iPhone 14 Case Black', 'type': ['accessory', 'case'], 'color': 'black', 'price': 12, 'warranty_years': 0.25, 'available': False, 'for': ['dial1', 'dial2']}\n",
            "{'_id': 'dial9', 'name': 'iPhone 14 Mini Case Yellow', 'type': ['accessory', 'case'], 'color': 'yellow', 'price': 10, 'warranty_years': 0}\n",
            "{'_id': 'dial10', 'name': 'Galaxy S23 Case Green', 'type': ['accessory', 'case'], 'color': 'green', 'price': 10, 'warranty_years': 0}\n",
            "{'_id': 'dial11', 'name': 'Galaxy S23 Ultra Case Red', 'type': ['accessory', 'case'], 'color': 'red', 'price': 15, 'warranty_years': 0.25, 'available': True, 'for': 'dial4'}\n"
          ]
        }
      ]
    },
    {
      "cell_type": "markdown",
      "source": [
        "## Word Counting with Aggregation Pipeline"
      ],
      "metadata": {
        "id": "mKfEh9-QUXDX"
      }
    },
    {
      "cell_type": "code",
      "source": [
        "text_collection = database[\"wordcount\"]\n",
        "text_collection.insert_many([\n",
        "    {\"text\":\"hello world\"},\n",
        "    {\"text\":\"hello hello world\"},\n",
        "    {\"text\":\"hello hello hello word\"}\n",
        "])"
      ],
      "metadata": {
        "colab": {
          "base_uri": "https://localhost:8080/"
        },
        "id": "an88rfPEUTiy",
        "outputId": "8e0dbf55-86b6-436e-ccf5-f8d05a39cc95"
      },
      "execution_count": 48,
      "outputs": [
        {
          "output_type": "execute_result",
          "data": {
            "text/plain": [
              "InsertManyResult([ObjectId('673348419fd9780179670e08'), ObjectId('673348419fd9780179670e09'), ObjectId('673348419fd9780179670e0a')], acknowledged=True)"
            ]
          },
          "metadata": {},
          "execution_count": 48
        }
      ]
    },
    {
      "cell_type": "code",
      "source": [
        "for doc in text_collection.find():\n",
        "    print(doc)"
      ],
      "metadata": {
        "colab": {
          "base_uri": "https://localhost:8080/"
        },
        "id": "HtP1tZbmUeTK",
        "outputId": "f0aaaa0d-c58b-4e81-93f4-662fa6410cb3"
      },
      "execution_count": 53,
      "outputs": [
        {
          "output_type": "stream",
          "name": "stdout",
          "text": [
            "{'_id': ObjectId('6733482a9fd9780179670e05'), 'text': 'hello world'}\n",
            "{'_id': ObjectId('6733482a9fd9780179670e06'), 'text': 'hello hello world'}\n",
            "{'_id': ObjectId('6733482a9fd9780179670e07'), 'text': 'hello hello hello word'}\n"
          ]
        }
      ]
    },
    {
      "cell_type": "code",
      "source": [
        "word_counts = text_collection.aggregate([\n",
        "    {'$project': {'words': {'$split': ['$text', ' ']}}}])\n",
        "for doc in word_counts:\n",
        "    print(doc)"
      ],
      "metadata": {
        "colab": {
          "base_uri": "https://localhost:8080/"
        },
        "id": "8eWtssFqUlA9",
        "outputId": "de948627-c7bb-4a97-d140-992166799f9d"
      },
      "execution_count": 54,
      "outputs": [
        {
          "output_type": "stream",
          "name": "stdout",
          "text": [
            "{'_id': ObjectId('6733482a9fd9780179670e05'), 'words': ['hello', 'world']}\n",
            "{'_id': ObjectId('6733482a9fd9780179670e06'), 'words': ['hello', 'hello', 'world']}\n",
            "{'_id': ObjectId('6733482a9fd9780179670e07'), 'words': ['hello', 'hello', 'hello', 'word']}\n"
          ]
        }
      ]
    },
    {
      "cell_type": "code",
      "source": [
        "word_counts = text_collection.aggregate([\n",
        "    {'$project': {'words': {'$split': ['$text', ' ']}}},\n",
        "    {'$unwind': '$words'}])\n",
        "for doc in word_counts:\n",
        "    print(doc)"
      ],
      "metadata": {
        "colab": {
          "base_uri": "https://localhost:8080/"
        },
        "id": "n66sFrDeUn7T",
        "outputId": "91700d8e-cf96-474c-b60c-cb54e3ab5fb4"
      },
      "execution_count": 55,
      "outputs": [
        {
          "output_type": "stream",
          "name": "stdout",
          "text": [
            "{'_id': ObjectId('6733482a9fd9780179670e05'), 'words': 'hello'}\n",
            "{'_id': ObjectId('6733482a9fd9780179670e05'), 'words': 'world'}\n",
            "{'_id': ObjectId('6733482a9fd9780179670e06'), 'words': 'hello'}\n",
            "{'_id': ObjectId('6733482a9fd9780179670e06'), 'words': 'hello'}\n",
            "{'_id': ObjectId('6733482a9fd9780179670e06'), 'words': 'world'}\n",
            "{'_id': ObjectId('6733482a9fd9780179670e07'), 'words': 'hello'}\n",
            "{'_id': ObjectId('6733482a9fd9780179670e07'), 'words': 'hello'}\n",
            "{'_id': ObjectId('6733482a9fd9780179670e07'), 'words': 'hello'}\n",
            "{'_id': ObjectId('6733482a9fd9780179670e07'), 'words': 'word'}\n"
          ]
        }
      ]
    },
    {
      "cell_type": "code",
      "source": [
        "word_counts = text_collection.aggregate([\n",
        "    {'$project': {'words': {'$split': ['$text', ' ']}}},\n",
        "    {'$unwind': '$words'},\n",
        "    {'$group': {'_id': {'word': '$words'}, 'count': {'$sum': 1}}}\n",
        "])\n",
        "for doc in word_counts:\n",
        "    print(doc)\n"
      ],
      "metadata": {
        "colab": {
          "base_uri": "https://localhost:8080/"
        },
        "id": "JNmK-DaAUwr0",
        "outputId": "d7566fd2-2ed3-4c78-c812-bc83d04dd3c4"
      },
      "execution_count": 56,
      "outputs": [
        {
          "output_type": "stream",
          "name": "stdout",
          "text": [
            "{'_id': {'word': 'hello'}, 'count': 6}\n",
            "{'_id': {'word': 'world'}, 'count': 2}\n",
            "{'_id': {'word': 'word'}, 'count': 1}\n"
          ]
        }
      ]
    },
    {
      "cell_type": "markdown",
      "source": [
        "### Exercise"
      ],
      "metadata": {
        "id": "ZFaHcBl4VVRL"
      }
    },
    {
      "cell_type": "code",
      "source": [
        "new_collection = database[\"new_wordcount\"]\n",
        "doc_list = []\n",
        "for line in open('eng_collection.json', 'r'):\n",
        "    doc_list.append(json.loads(line))\n",
        "for doc in doc_list:\n",
        "    try:\n",
        "        new_collection.insert_one(doc)\n",
        "    except pymongo.errors.DuplicateKeyError:\n",
        "        pass"
      ],
      "metadata": {
        "id": "BuaXfokDVFE_"
      },
      "execution_count": 57,
      "outputs": []
    },
    {
      "cell_type": "code",
      "source": [
        "new_wordcount_result = new_collection.aggregate([\n",
        "    {'$project': {'words': {'$split': ['$text', ' ']}}},\n",
        "    {'$unwind': '$words'},\n",
        "    {'$group': {'_id': {'word': '$words'}, 'count': {'$sum': 1}}},\n",
        "    {'$project': {'value': {'count': '$count'}}},\n",
        "    {'$sort': {'value': -1}}\n",
        "])\n",
        "for doc in new_wordcount_result:\n",
        "    print(doc)"
      ],
      "metadata": {
        "colab": {
          "base_uri": "https://localhost:8080/"
        },
        "id": "HUpR3hUEVeyi",
        "outputId": "913f5dd2-6856-404f-b923-6ba98ce9075c"
      },
      "execution_count": 58,
      "outputs": [
        {
          "output_type": "stream",
          "name": "stdout",
          "text": [
            "{'_id': {'word': 'is'}, 'value': {'count': 7}}\n",
            "{'_id': {'word': 'the'}, 'value': {'count': 6}}\n",
            "{'_id': {'word': 'not'}, 'value': {'count': 5}}\n",
            "{'_id': {'word': 'a'}, 'value': {'count': 5}}\n",
            "{'_id': {'word': 'life'}, 'value': {'count': 4}}\n",
            "{'_id': {'word': 'to'}, 'value': {'count': 4}}\n",
            "{'_id': {'word': 'than'}, 'value': {'count': 3}}\n",
            "{'_id': {'word': 'no'}, 'value': {'count': 3}}\n",
            "{'_id': {'word': 'for'}, 'value': {'count': 3}}\n",
            "{'_id': {'word': 'in'}, 'value': {'count': 3}}\n",
            "{'_id': {'word': 'give'}, 'value': {'count': 3}}\n",
            "{'_id': {'word': 'day'}, 'value': {'count': 3}}\n",
            "{'_id': {'word': 'can'}, 'value': {'count': 3}}\n",
            "{'_id': {'word': 'do'}, 'value': {'count': 3}}\n",
            "{'_id': {'word': 'it'}, 'value': {'count': 3}}\n",
            "{'_id': {'word': 'over'}, 'value': {'count': 2}}\n",
            "{'_id': {'word': 'better'}, 'value': {'count': 2}}\n",
            "{'_id': {'word': 'we'}, 'value': {'count': 2}}\n",
            "{'_id': {'word': 'of'}, 'value': {'count': 2}}\n",
            "{'_id': {'word': 'great'}, 'value': {'count': 2}}\n",
            "{'_id': {'word': 'laughter'}, 'value': {'count': 2}}\n",
            "{'_id': {'word': 'but'}, 'value': {'count': 2}}\n",
            "{'_id': {'word': 'complains'}, 'value': {'count': 1}}\n",
            "{'_id': {'word': 'first'}, 'value': {'count': 1}}\n",
            "{'_id': {'word': \"ain't\"}, 'value': {'count': 1}}\n",
            "{'_id': {'word': 'get'}, 'value': {'count': 1}}\n",
            "{'_id': {'word': 'late'}, 'value': {'count': 1}}\n",
            "{'_id': {'word': 'habit'}, 'value': {'count': 1}}\n",
            "{'_id': {'word': 'conduct'}, 'value': {'count': 1}}\n",
            "{'_id': {'word': \"it's\"}, 'value': {'count': 1}}\n",
            "{'_id': {'word': 'I'}, 'value': {'count': 1}}\n",
            "{'_id': {'word': 'use'}, 'value': {'count': 1}}\n",
            "{'_id': {'word': 'till'}, 'value': {'count': 1}}\n",
            "{'_id': {'word': 'change'}, 'value': {'count': 1}}\n",
            "{'_id': {'word': 'man'}, 'value': {'count': 1}}\n",
            "{'_id': {'word': 'second'}, 'value': {'count': 1}}\n",
            "{'_id': {'word': 'advice,'}, 'value': {'count': 1}}\n",
            "{'_id': {'word': 'afraid'}, 'value': {'count': 1}}\n",
            "{'_id': {'word': 'life,'}, 'value': {'count': 1}}\n",
            "{'_id': {'word': 'and'}, 'value': {'count': 1}}\n",
            "{'_id': {'word': 'opinions'}, 'value': {'count': 1}}\n",
            "{'_id': {'word': 'nothing'}, 'value': {'count': 1}}\n",
            "{'_id': {'word': 'last'}, 'value': {'count': 1}}\n",
            "{'_id': {'word': 'have'}, 'value': {'count': 1}}\n",
            "{'_id': {'word': 'be'}, 'value': {'count': 1}}\n",
            "{'_id': {'word': 'nature'}, 'value': {'count': 1}}\n",
            "{'_id': {'word': 'success'}, 'value': {'count': 1}}\n",
            "{'_id': {'word': 'up'}, 'value': {'count': 1}}\n",
            "{'_id': {'word': 'accustom'}, 'value': {'count': 1}}\n",
            "{'_id': {'word': 'go'}, 'value': {'count': 1}}\n",
            "{'_id': {'word': 'come'}, 'value': {'count': 1}}\n",
            "{'_id': {'word': 'big'}, 'value': {'count': 1}}\n",
            "{'_id': {'word': 'what'}, 'value': {'count': 1}}\n",
            "{'_id': {'word': 'tragedy'}, 'value': {'count': 1}}\n",
            "{'_id': {'word': 'only'}, 'value': {'count': 1}}\n",
            "{'_id': {'word': \"other's\"}, 'value': {'count': 1}}\n",
            "{'_id': {'word': \"doesn't\"}, 'value': {'count': 1}}\n",
            "{'_id': {'word': 'long'}, 'value': {'count': 1}}\n",
            "{'_id': {'word': 'me'}, 'value': {'count': 1}}\n",
            "{'_id': {'word': 'pain'}, 'value': {'count': 1}}\n",
            "{'_id': {'word': 'patterning'}, 'value': {'count': 1}}\n",
            "{'_id': {'word': 'gain'}, 'value': {'count': 1}}\n",
            "{'_id': {'word': 'seen'}, 'value': {'count': 1}}\n",
            "{'_id': {'word': 'close-up,'}, 'value': {'count': 1}}\n",
            "{'_id': {'word': 'good'}, 'value': {'count': 1}}\n",
            "{'_id': {'word': 'smile'}, 'value': {'count': 1}}\n",
            "{'_id': {'word': 'wasted'}, 'value': {'count': 1}}\n",
            "{'_id': {'word': 'never'}, 'value': {'count': 1}}\n",
            "{'_id': {'word': 'opportunity'}, 'value': {'count': 1}}\n",
            "{'_id': {'word': 'win'}, 'value': {'count': 1}}\n",
            "{'_id': {'word': 'yourself'}, 'value': {'count': 1}}\n",
            "{'_id': {'word': 'dares,'}, 'value': {'count': 1}}\n",
            "{'_id': {'word': 'wins'}, 'value': {'count': 1}}\n",
            "{'_id': {'word': 'rome'}, 'value': {'count': 1}}\n",
            "{'_id': {'word': 'overnight'}, 'value': {'count': 1}}\n",
            "{'_id': {'word': 'built'}, 'value': {'count': 1}}\n",
            "{'_id': {'word': 'your'}, 'value': {'count': 1}}\n",
            "{'_id': {'word': 'slavery'}, 'value': {'count': 1}}\n",
            "{'_id': {'word': 'matters'}, 'value': {'count': 1}}\n",
            "{'_id': {'word': 'around'}, 'value': {'count': 1}}\n",
            "{'_id': {'word': 'more'}, 'value': {'count': 1}}\n",
            "{'_id': {'word': 'fair,'}, 'value': {'count': 1}}\n",
            "{'_id': {'word': 'used'}, 'value': {'count': 1}}\n",
            "{'_id': {'word': 'little'}, 'value': {'count': 1}}\n",
            "{'_id': {'word': 'my'}, 'value': {'count': 1}}\n",
            "{'_id': {'word': 'without'}, 'value': {'count': 1}}\n",
            "{'_id': {'word': 'No'}, 'value': {'count': 1}}\n",
            "{'_id': {'word': 'you'}, 'value': {'count': 1}}\n",
            "{'_id': {'word': 'worth'}, 'value': {'count': 1}}\n",
            "{'_id': {'word': 'living'}, 'value': {'count': 1}}\n",
            "{'_id': {'word': 'cannot'}, 'value': {'count': 1}}\n",
            "{'_id': {'word': 'steady'}, 'value': {'count': 1}}\n",
            "{'_id': {'word': 'words'}, 'value': {'count': 1}}\n",
            "{'_id': {'word': 'comedy'}, 'value': {'count': 1}}\n",
            "{'_id': {'word': 'race'}, 'value': {'count': 1}}\n",
            "{'_id': {'word': 'ever'}, 'value': {'count': 1}}\n",
            "{'_id': {'word': 'when'}, 'value': {'count': 1}}\n",
            "{'_id': {'word': 'shot'}, 'value': {'count': 1}}\n",
            "{'_id': {'word': 'slow'}, 'value': {'count': 1}}\n",
            "{'_id': {'word': 'love'}, 'value': {'count': 1}}\n",
            "{'_id': {'word': 'want'}, 'value': {'count': 1}}\n",
            "{'_id': {'word': 'one'}, 'value': {'count': 1}}\n",
            "{'_id': {'word': 'unexamined'}, 'value': {'count': 1}}\n",
            "{'_id': {'word': 'who'}, 'value': {'count': 1}}\n"
          ]
        }
      ]
    },
    {
      "cell_type": "code",
      "source": [],
      "metadata": {
        "id": "n3Rwx6anViU_"
      },
      "execution_count": null,
      "outputs": []
    }
  ]
}